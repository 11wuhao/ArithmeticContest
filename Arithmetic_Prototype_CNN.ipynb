{
 "cells": [
  {
   "cell_type": "markdown",
   "metadata": {},
   "source": [
    "# Arithmetic Contest - Prototyping with CNN\n",
    "\n",
    "- **Author**: Michael Yuan\n",
    "- **Team**: 一朵小红花"
   ]
  },
  {
   "cell_type": "code",
   "execution_count": 1,
   "metadata": {
    "collapsed": true
   },
   "outputs": [],
   "source": [
    "import numpy as np\n",
    "from PIL import Image\n",
    "from tqdm import tqdm\n",
    "import matplotlib.pyplot as plt\n",
    "import pickle"
   ]
  },
  {
   "cell_type": "markdown",
   "metadata": {},
   "source": [
    "### 数据预处理"
   ]
  },
  {
   "cell_type": "markdown",
   "metadata": {},
   "source": [
    "1.读取文本信息"
   ]
  },
  {
   "cell_type": "code",
   "execution_count": 106,
   "metadata": {
    "collapsed": false
   },
   "outputs": [],
   "source": [
    "import numpy as np\n",
    "with open('.\\image_contest_level_1\\labels.txt', 'r') as f:\n",
    "    labels = f.readlines()\n",
    "\n",
    "# X = expr\n",
    "# Y = result\n",
    "x, y = [], []\n",
    "for line in labels:\n",
    "    splited = line.split(' ')\n",
    "    x.append(splited[0])\n",
    "    y.append(splited[1])\n",
    "    \n",
    "x_set = np.array(x).reshape(10, -1)\n",
    "y_set = np.array(y).reshape(10, -1)"
   ]
  },
  {
   "cell_type": "markdown",
   "metadata": {},
   "source": [
    "2.读取图片信息"
   ]
  },
  {
   "cell_type": "code",
   "execution_count": 122,
   "metadata": {
    "collapsed": false
   },
   "outputs": [
    {
     "name": "stderr",
     "output_type": "stream",
     "text": [
      "100%|████████████████████████████████████████████████████| 10000/10000 [00:04<00:00, 2143.41it/s]\n",
      "100%|████████████████████████████████████████████████████| 10000/10000 [00:04<00:00, 2080.49it/s]\n",
      "100%|████████████████████████████████████████████████████| 10000/10000 [00:04<00:00, 2018.35it/s]\n",
      "100%|████████████████████████████████████████████████████| 10000/10000 [00:05<00:00, 1969.34it/s]\n",
      "100%|████████████████████████████████████████████████████| 10000/10000 [00:05<00:00, 1936.45it/s]\n",
      "100%|████████████████████████████████████████████████████| 10000/10000 [00:05<00:00, 1925.13it/s]\n",
      "100%|████████████████████████████████████████████████████| 10000/10000 [00:05<00:00, 1901.38it/s]\n",
      "100%|████████████████████████████████████████████████████| 10000/10000 [00:05<00:00, 1875.95it/s]\n",
      "100%|████████████████████████████████████████████████████| 10000/10000 [00:05<00:00, 1824.50it/s]\n",
      "100%|████████████████████████████████████████████████████| 10000/10000 [00:05<00:00, 1834.73it/s]\n"
     ]
    }
   ],
   "source": [
    "from PIL import Image\n",
    "from tqdm import tqdm\n",
    "import matplotlib.pyplot as plt\n",
    "\n",
    "img_db = []\n",
    "for set_i in range(10):\n",
    "    img_db.append([])\n",
    "    for i in tqdm(range(10000)):\n",
    "        img = Image.open('C:\\\\image_contest_level_1\\\\' + str(i + 10000 * set_i) + '.png').convert('RGB')\n",
    "        img_db[set_i].append(np.array(img))"
   ]
  },
  {
   "cell_type": "code",
   "execution_count": 123,
   "metadata": {
    "collapsed": false
   },
   "outputs": [
    {
     "data": {
      "text/plain": [
       "(10000, 60, 180, 3)"
      ]
     },
     "execution_count": 123,
     "metadata": {},
     "output_type": "execute_result"
    }
   ],
   "source": [
    "np.array(img_db[0]).shape"
   ]
  },
  {
   "cell_type": "markdown",
   "metadata": {},
   "source": [
    "### 序列化导出为Pickle文件\n",
    "\n",
    "- 用pickle将十万张图片序列化为十个pickle文件。\n",
    "- 每个文件是一个dict对象。\n",
    "- 该dict对象具有4个键\n",
    "    - set_id：指示dict所含数据的批号\n",
    "    - data：np.array，维度是(1000, 60, 180, 30)\n",
    "    - expr：一万个文本表达式，与data的图像一一对应\n",
    "    - res：一万个文本结果，与data的图像一一对应"
   ]
  },
  {
   "cell_type": "code",
   "execution_count": 124,
   "metadata": {
    "collapsed": false
   },
   "outputs": [
    {
     "name": "stderr",
     "output_type": "stream",
     "text": [
      "100%|████████████████████████████████████████████████████████████| 10/10 [00:22<00:00,  2.32s/it]\n"
     ]
    }
   ],
   "source": [
    "import pickle\n",
    "\n",
    "for i in tqdm(range(10)):\n",
    "    obj = {'set_id':i, 'data':np.array(img_db[i]), 'expr':x_set[i], 'res':y_set[i]}\n",
    "    with open('test_data_%s.p'%(i), 'wb') as f:\n",
    "        pickle.dump(obj, f)"
   ]
  },
  {
   "cell_type": "markdown",
   "metadata": {},
   "source": [
    "### 导入Pickle文件的数据"
   ]
  },
  {
   "cell_type": "code",
   "execution_count": 2,
   "metadata": {
    "collapsed": true
   },
   "outputs": [],
   "source": [
    "# 提供pickle文件所在位置，以及要取的数据集编号（0-9）\n",
    "def load_dataset(path, set_id):\n",
    "    if set_id > 9 or set_id < 0:\n",
    "        print('Error: Invalid Dataset ID. Range 0 to 9.')\n",
    "        return None\n",
    "    with open('%stest_data_%s.p'%(path, set_id), mode='rb') as file:\n",
    "        dataset = pickle.load(file)\n",
    "\n",
    "    features = dataset['data']\n",
    "    labels = np.array(dataset['expr'])\n",
    "    results = np.array(dataset['res'])\n",
    "    print('Features Shape :', features.shape)\n",
    "    print('Expressions Shape :', labels.shape)\n",
    "    print('Results Shape :', results.shape)\n",
    "\n",
    "    return features, labels, results"
   ]
  },
  {
   "cell_type": "code",
   "execution_count": 12,
   "metadata": {
    "collapsed": false
   },
   "outputs": [
    {
     "name": "stdout",
     "output_type": "stream",
     "text": [
      "Features Shape : (10000, 60, 180, 3)\n",
      "Expressions Shape : (10000,)\n",
      "Results Shape : (10000,)\n"
     ]
    }
   ],
   "source": [
    "features, labels, results = load_dataset('', 0)"
   ]
  },
  {
   "cell_type": "markdown",
   "metadata": {},
   "source": [
    "### 确定字符集\n",
    "\n",
    "- 数字：10种\n",
    "- 括号：2种\n",
    "- 运算符：3种，不包括除法\n",
    "- 空白符：1种，用来补齐没有使用括号的图片，这样所有图片中的字符串长度都可以统一固定为7。\n",
    "    - 例如：1+7-1 （原长度为5）可以被识别为 1+_7-1_ （长度为7）"
   ]
  },
  {
   "cell_type": "code",
   "execution_count": 2,
   "metadata": {
    "collapsed": true
   },
   "outputs": [],
   "source": [
    "# 字符集\n",
    "char_set = '0123456789+-*() '\n",
    "\n",
    "# 字符集长度 = 16\n",
    "n_class = len(char_set)\n",
    "\n",
    "# 图片所含文本内容的长度 = 7\n",
    "n_len = 7\n",
    "\n",
    "# 图片尺寸\n",
    "width, height = 180, 60"
   ]
  },
  {
   "cell_type": "markdown",
   "metadata": {},
   "source": [
    "### 对Expression内容进行One-Hot编码和解码"
   ]
  },
  {
   "cell_type": "code",
   "execution_count": 149,
   "metadata": {
    "collapsed": false
   },
   "outputs": [
    {
     "data": {
      "text/plain": [
       "10000"
      ]
     },
     "execution_count": 149,
     "metadata": {},
     "output_type": "execute_result"
    }
   ],
   "source": [
    "len(labels)"
   ]
  },
  {
   "cell_type": "code",
   "execution_count": 3,
   "metadata": {
    "collapsed": false
   },
   "outputs": [],
   "source": [
    "def encode(y):\n",
    "    y_encoded = [np.zeros((len(y), n_class), dtype=np.uint8) for i in range(n_len)]\n",
    "    for pid in range(len(y)):\n",
    "        for i, ch in enumerate(y[pid]):\n",
    "            y_encoded[i][pid, char_set.find(ch)] = 1\n",
    "        if len(y[pid]) < n_len:\n",
    "            y_encoded[5][pid, 15] = 1\n",
    "            y_encoded[6][pid, 15] = 1\n",
    "    return y_encoded"
   ]
  },
  {
   "cell_type": "code",
   "execution_count": 4,
   "metadata": {
    "collapsed": true
   },
   "outputs": [],
   "source": [
    "def decode(y, i=0):\n",
    "    y = np.argmax(np.array(y), axis=2)\n",
    "    y = y[:,i]\n",
    "    return ''.join([char_set[x] for x in y])"
   ]
  },
  {
   "cell_type": "code",
   "execution_count": 14,
   "metadata": {
    "collapsed": false
   },
   "outputs": [
    {
     "name": "stdout",
     "output_type": "stream",
     "text": [
      "Length : 7\n",
      "Shape in Numpy : (7, 10000, 16)\n",
      "Example Label : (4*8)+8\n",
      "Example Encoded Label : \n",
      " [[0 0 0 0 0 0 0 0 0 0 0 0 0 1 0 0]\n",
      " [0 0 0 0 1 0 0 0 0 0 0 0 0 0 0 0]\n",
      " [0 0 0 0 0 0 0 0 0 0 0 0 1 0 0 0]\n",
      " [0 0 0 0 0 0 0 0 1 0 0 0 0 0 0 0]\n",
      " [0 0 0 0 0 0 0 0 0 0 0 0 0 0 1 0]\n",
      " [0 0 0 0 0 0 0 0 0 0 1 0 0 0 0 0]\n",
      " [0 0 0 0 0 0 0 0 1 0 0 0 0 0 0 0]]\n"
     ]
    }
   ],
   "source": [
    "encoded_labels = encode(labels)\n",
    "print(\"Length :\", len(encoded_labels))\n",
    "print(\"Shape in Numpy :\", np.array(encoded_labels).shape)\n",
    "print(\"Example Label :\", np.array(labels)[0])\n",
    "print(\"Example Encoded Label : \\n\", np.array(encoded_labels)[:, 0, :])"
   ]
  },
  {
   "cell_type": "code",
   "execution_count": 208,
   "metadata": {
    "collapsed": false
   },
   "outputs": [
    {
     "data": {
      "text/plain": [
       "'5+(5+2)'"
      ]
     },
     "execution_count": 208,
     "metadata": {},
     "output_type": "execute_result"
    }
   ],
   "source": [
    "decode(encoded_labels, 2)"
   ]
  },
  {
   "cell_type": "markdown",
   "metadata": {},
   "source": [
    "### 搭建卷积神经网络"
   ]
  },
  {
   "cell_type": "code",
   "execution_count": 1,
   "metadata": {
    "collapsed": false
   },
   "outputs": [
    {
     "name": "stderr",
     "output_type": "stream",
     "text": [
      "Using TensorFlow backend.\n"
     ]
    }
   ],
   "source": [
    "from keras.models import Model\n",
    "from keras.layers import Input, Dense, Conv2D, Convolution2D, MaxPool2D, MaxPooling2D, Flatten, Dropout\n",
    "from keras.layers.normalization import BatchNormalization\n",
    "\n",
    "#CCM -> CCM -> CCM -> CCM -> Flatten -> Dropout -> Fully-Connected X 4 -> output\n",
    "def create_model(num_CCM, num_kernel):\n",
    "    # Input Layers\n",
    "    input_tensor = Input((height, width, 3))\n",
    "    x = input_tensor\n",
    "\n",
    "    # Convolution + Pooling Layer (4层CCM级联，模拟VGG16的结构)\n",
    "    # 32C 32C M -> 64C 64C M -> 128C 128C M -> 256C 256C M\n",
    "    for i in range(num_CCM):\n",
    "        conv_num_output = num_kernel * (2**i)\n",
    "        x = Conv2D(filters=conv_num_output, kernel_size=3, strides=1, padding='valid', activation='relu')(x)\n",
    "        x = BatchNormalization()(x)\n",
    "        x = Conv2D(filters=conv_num_output, kernel_size=3, strides=1, padding='valid', activation='relu')(x)\n",
    "        x = BatchNormalization()(x)\n",
    "        x = MaxPool2D(pool_size=2, strides=2, padding='valid')(x)\n",
    "    # Flatten\n",
    "    x = Flatten()(x)\n",
    "    # Dropout\n",
    "    x = Dropout(0.25)(x)\n",
    "    # Fully-Connected Layer (由于需要识别的字符数量是4，因此需要用4个全链接子网)\n",
    "    x = [Dense(n_class, activation='softmax', name='c%d'%(i+1))(x) for i in range(n_len)]\n",
    "\n",
    "    model = Model(inputs=input_tensor, outputs=x, name='captcha')\n",
    "    return model"
   ]
  },
  {
   "cell_type": "markdown",
   "metadata": {},
   "source": [
    "### 初始化模型"
   ]
  },
  {
   "cell_type": "code",
   "execution_count": 252,
   "metadata": {
    "collapsed": false
   },
   "outputs": [],
   "source": [
    "from helper import make_parallel\n",
    "from keras.callbacks import EarlyStopping, TensorBoard, History\n",
    "\n",
    "# 1. Create Model (3 CCM)\n",
    "model = create_model(3, 32)\n",
    "\n",
    "# 2. Enable Data Parallelism\n",
    "# model = make_parallel(model, 2)\n",
    "\n",
    "# 3. Compile Model with metrics/optimizer/loss\n",
    "model.compile(loss='categorical_crossentropy',\n",
    "              optimizer='adadelta',\n",
    "              metrics=['accuracy'])"
   ]
  },
  {
   "cell_type": "markdown",
   "metadata": {},
   "source": [
    "### 训练模型"
   ]
  },
  {
   "cell_type": "code",
   "execution_count": 216,
   "metadata": {
    "collapsed": false
   },
   "outputs": [
    {
     "name": "stdout",
     "output_type": "stream",
     "text": [
      "Epoch 1/1\n",
      "10000/10000 [==============================] - 15s - loss: 0.2604 - c1_loss: 0.0081 - c2_loss: 0.0281 - c3_loss: 0.0398 - c4_loss: 0.0674 - c5_loss: 0.0534 - c6_loss: 0.0462 - c7_loss: 0.0173 - c1_acc: 0.9980 - c2_acc: 0.9900 - c3_acc: 0.9881 - c4_acc: 0.9784 - c5_acc: 0.9831 - c6_acc: 0.9847 - c7_acc: 0.9959    \n"
     ]
    },
    {
     "data": {
      "text/plain": [
       "<keras.callbacks.History at 0x22413a1c6a0>"
      ]
     },
     "execution_count": 216,
     "metadata": {},
     "output_type": "execute_result"
    }
   ],
   "source": [
    "# the number of samples processed for each epoch is batch_size * steps_per_epochs\n",
    "batch_size = 64\n",
    "epoch = 1\n",
    "\n",
    "# Early Stopping\n",
    "early_stopping = EarlyStopping(monitor='val_loss', min_delta=0.01, patience=2)\n",
    "\n",
    "# Start training\n",
    "model.fit(x=features, \n",
    "          y=encoded_labels, \n",
    "          batch_size=batch_size, \n",
    "          epochs=epoch, \n",
    "          verbose=1, \n",
    "          callbacks=None)"
   ]
  },
  {
   "cell_type": "code",
   "execution_count": 285,
   "metadata": {
    "collapsed": false,
    "scrolled": true
   },
   "outputs": [
    {
     "name": "stderr",
     "output_type": "stream",
     "text": [
      "\r",
      "  0%|                                                                      | 0/9 [00:00<?, ?it/s]"
     ]
    },
    {
     "name": "stdout",
     "output_type": "stream",
     "text": [
      "Features Shape : (10000, 60, 180, 3)\n",
      "Expressions Shape : (10000,)\n",
      "Results Shape : (10000,)\n",
      "Epoch 1/1\n",
      "10000/10000 [==============================] - 15s - loss: 0.0240 - c1_loss: 2.2310e-04 - c2_loss: 0.0016 - c3_loss: 0.0071 - c4_loss: 0.0052 - c5_loss: 0.0045 - c6_loss: 0.0041 - c7_loss: 0.0012 - c1_acc: 1.0000 - c2_acc: 0.9995 - c3_acc: 0.9983 - c4_acc: 0.9986 - c5_acc: 0.9986 - c6_acc: 0.9989 - c7_acc: 0.9995    \n"
     ]
    },
    {
     "name": "stderr",
     "output_type": "stream",
     "text": [
      "\r",
      " 11%|██████▉                                                       | 1/9 [00:16<02:09, 16.25s/it]"
     ]
    },
    {
     "name": "stdout",
     "output_type": "stream",
     "text": [
      "Features Shape : (10000, 60, 180, 3)\n",
      "Expressions Shape : (10000,)\n",
      "Results Shape : (10000,)\n",
      "Epoch 1/1\n",
      "10000/10000 [==============================] - 15s - loss: 0.0192 - c1_loss: 2.3303e-04 - c2_loss: 0.0015 - c3_loss: 0.0019 - c4_loss: 0.0075 - c5_loss: 0.0030 - c6_loss: 0.0038 - c7_loss: 0.0013 - c1_acc: 1.0000 - c2_acc: 0.9995 - c3_acc: 0.9995 - c4_acc: 0.9981 - c5_acc: 0.9990 - c6_acc: 0.9989 - c7_acc: 0.9997    \n"
     ]
    },
    {
     "name": "stderr",
     "output_type": "stream",
     "text": [
      "\r",
      " 22%|█████████████▊                                                | 2/9 [00:32<01:53, 16.21s/it]"
     ]
    },
    {
     "name": "stdout",
     "output_type": "stream",
     "text": [
      "Features Shape : (10000, 60, 180, 3)\n",
      "Expressions Shape : (10000,)\n",
      "Results Shape : (10000,)\n",
      "Epoch 1/1\n",
      "10000/10000 [==============================] - 15s - loss: 0.0144 - c1_loss: 2.6805e-04 - c2_loss: 7.2792e-04 - c3_loss: 0.0035 - c4_loss: 0.0039 - c5_loss: 0.0028 - c6_loss: 0.0024 - c7_loss: 7.2206e-04 - c1_acc: 0.9999 - c2_acc: 0.9999 - c3_acc: 0.9987 - c4_acc: 0.9986 - c5_acc: 0.9994 - c6_acc: 0.9995 - c7_acc: 0.9999    \n"
     ]
    },
    {
     "name": "stderr",
     "output_type": "stream",
     "text": [
      "\r",
      " 33%|████████████████████▋                                         | 3/9 [00:48<01:37, 16.20s/it]"
     ]
    },
    {
     "name": "stdout",
     "output_type": "stream",
     "text": [
      "Features Shape : (10000, 60, 180, 3)\n",
      "Expressions Shape : (10000,)\n",
      "Results Shape : (10000,)\n",
      "Epoch 1/1\n",
      "10000/10000 [==============================] - 15s - loss: 0.0194 - c1_loss: 8.8302e-04 - c2_loss: 0.0010 - c3_loss: 0.0020 - c4_loss: 0.0068 - c5_loss: 0.0035 - c6_loss: 0.0034 - c7_loss: 0.0018 - c1_acc: 0.9998 - c2_acc: 0.9997 - c3_acc: 0.9995 - c4_acc: 0.9986 - c5_acc: 0.9990 - c6_acc: 0.9985 - c7_acc: 0.9994    \n"
     ]
    },
    {
     "name": "stderr",
     "output_type": "stream",
     "text": [
      "\r",
      " 44%|███████████████████████████▌                                  | 4/9 [01:04<01:21, 16.21s/it]"
     ]
    },
    {
     "name": "stdout",
     "output_type": "stream",
     "text": [
      "Features Shape : (10000, 60, 180, 3)\n",
      "Expressions Shape : (10000,)\n",
      "Results Shape : (10000,)\n",
      "Epoch 1/1\n",
      "10000/10000 [==============================] - 15s - loss: 0.0217 - c1_loss: 4.6253e-04 - c2_loss: 0.0010 - c3_loss: 0.0041 - c4_loss: 0.0057 - c5_loss: 0.0042 - c6_loss: 0.0038 - c7_loss: 0.0025 - c1_acc: 0.9999 - c2_acc: 0.9998 - c3_acc: 0.9988 - c4_acc: 0.9986 - c5_acc: 0.9992 - c6_acc: 0.9992 - c7_acc: 0.9993    \n"
     ]
    },
    {
     "name": "stderr",
     "output_type": "stream",
     "text": [
      "\r",
      " 56%|██████████████████████████████████▍                           | 5/9 [01:20<01:04, 16.20s/it]"
     ]
    },
    {
     "name": "stdout",
     "output_type": "stream",
     "text": [
      "Features Shape : (10000, 60, 180, 3)\n",
      "Expressions Shape : (10000,)\n",
      "Results Shape : (10000,)\n",
      "Epoch 1/1\n",
      "10000/10000 [==============================] - 15s - loss: 0.0103 - c1_loss: 5.7447e-05 - c2_loss: 0.0016 - c3_loss: 6.1620e-04 - c4_loss: 0.0034 - c5_loss: 0.0021 - c6_loss: 0.0018 - c7_loss: 7.0486e-04 - c1_acc: 1.0000 - c2_acc: 0.9998 - c3_acc: 0.9999 - c4_acc: 0.9990 - c5_acc: 0.9995 - c6_acc: 0.9995 - c7_acc: 0.9997    \n"
     ]
    },
    {
     "name": "stderr",
     "output_type": "stream",
     "text": [
      "\r",
      " 67%|█████████████████████████████████████████▎                    | 6/9 [01:37<00:48, 16.19s/it]"
     ]
    },
    {
     "name": "stdout",
     "output_type": "stream",
     "text": [
      "Features Shape : (10000, 60, 180, 3)\n",
      "Expressions Shape : (10000,)\n",
      "Results Shape : (10000,)\n",
      "Epoch 1/1\n",
      "10000/10000 [==============================] - 15s - loss: 0.0099 - c1_loss: 1.7225e-04 - c2_loss: 4.4842e-04 - c3_loss: 9.9522e-04 - c4_loss: 0.0035 - c5_loss: 0.0021 - c6_loss: 0.0022 - c7_loss: 4.6250e-04 - c1_acc: 0.9999 - c2_acc: 0.9999 - c3_acc: 0.9998 - c4_acc: 0.9992 - c5_acc: 0.9993 - c6_acc: 0.9991 - c7_acc: 0.9999    \n"
     ]
    },
    {
     "name": "stderr",
     "output_type": "stream",
     "text": [
      "\r",
      " 78%|████████████████████████████████████████████████▏             | 7/9 [01:53<00:32, 16.18s/it]"
     ]
    },
    {
     "name": "stdout",
     "output_type": "stream",
     "text": [
      "Features Shape : (10000, 60, 180, 3)\n",
      "Expressions Shape : (10000,)\n",
      "Results Shape : (10000,)\n",
      "Epoch 1/1\n",
      "10000/10000 [==============================] - 15s - loss: 0.0092 - c1_loss: 5.1499e-05 - c2_loss: 3.2140e-04 - c3_loss: 0.0014 - c4_loss: 0.0032 - c5_loss: 0.0016 - c6_loss: 0.0022 - c7_loss: 2.9635e-04 - c1_acc: 1.0000 - c2_acc: 1.0000 - c3_acc: 0.9995 - c4_acc: 0.9988 - c5_acc: 0.9996 - c6_acc: 0.9993 - c7_acc: 1.0000    \n"
     ]
    },
    {
     "name": "stderr",
     "output_type": "stream",
     "text": [
      "\r",
      " 89%|███████████████████████████████████████████████████████       | 8/9 [02:09<00:16, 16.18s/it]"
     ]
    },
    {
     "name": "stdout",
     "output_type": "stream",
     "text": [
      "Features Shape : (10000, 60, 180, 3)\n",
      "Expressions Shape : (10000,)\n",
      "Results Shape : (10000,)\n",
      "Epoch 1/1\n",
      "10000/10000 [==============================] - 15s - loss: 0.0085 - c1_loss: 9.3618e-05 - c2_loss: 0.0015 - c3_loss: 6.3416e-04 - c4_loss: 0.0020 - c5_loss: 0.0015 - c6_loss: 0.0024 - c7_loss: 2.8852e-04 - c1_acc: 1.0000 - c2_acc: 0.9994 - c3_acc: 0.9999 - c4_acc: 0.9993 - c5_acc: 0.9997 - c6_acc: 0.9991 - c7_acc: 1.0000    \n"
     ]
    },
    {
     "name": "stderr",
     "output_type": "stream",
     "text": [
      "100%|██████████████████████████████████████████████████████████████| 9/9 [02:25<00:00, 16.21s/it]\n"
     ]
    }
   ],
   "source": [
    "total_dataset_to_be_trained = 9\n",
    "\n",
    "for set_id in tqdm(range(total_dataset_to_be_trained)):\n",
    "    features, labels, results = load_dataset('', set_id)\n",
    "    encoded_labels = encode(labels)\n",
    "    model.fit(x=features, \n",
    "              y=encoded_labels, \n",
    "              batch_size=batch_size, \n",
    "              epochs=epoch, \n",
    "              verbose=1, \n",
    "              callbacks=None)"
   ]
  },
  {
   "cell_type": "code",
   "execution_count": 284,
   "metadata": {
    "collapsed": true
   },
   "outputs": [],
   "source": [
    "# 保存模型(需要安装h5py)\n",
    "model.save('arithmetic_9set_2epoch_9895.h5')"
   ]
  },
  {
   "cell_type": "code",
   "execution_count": null,
   "metadata": {
    "collapsed": true
   },
   "outputs": [],
   "source": [
    "del model"
   ]
  },
  {
   "cell_type": "code",
   "execution_count": 5,
   "metadata": {
    "collapsed": true
   },
   "outputs": [],
   "source": [
    "# 重新载入模型\n",
    "from keras.models import load_model\n",
    "model = load_model('arithmetic_9set_2epoch_9895.h5')"
   ]
  },
  {
   "cell_type": "markdown",
   "metadata": {},
   "source": [
    "### 检测模型性能"
   ]
  },
  {
   "cell_type": "code",
   "execution_count": 17,
   "metadata": {
    "collapsed": false
   },
   "outputs": [
    {
     "data": {
      "image/png": "[encoded data removed]",
      "text/plain": [
       "<matplotlib.figure.Figure at 0x1e1e42c5748>"
      ]
     },
     "metadata": {},
     "output_type": "display_data"
    }
   ],
   "source": [
    "# 可视化对单个验证码的预测准确与否\n",
    "import random\n",
    "pid = random.choice(range(10000))\n",
    "x, y_true = (features[pid].reshape(1, 60, 180, 3), np.array(encoded_labels)[:, pid, :].reshape(7, 1, 16))\n",
    "y_pred = model.predict(x)\n",
    "pred = \"Pred: \" + decode(y_pred)\n",
    "true = \"True: \" + decode(y_true)\n",
    "plt.imshow(x[0])\n",
    "plt.title(pred + \"\\n\" + true)\n",
    "plt.show()"
   ]
  },
  {
   "cell_type": "code",
   "execution_count": 308,
   "metadata": {
    "collapsed": false
   },
   "outputs": [
    {
     "name": "stdout",
     "output_type": "stream",
     "text": [
      "Features Shape : (10000, 60, 180, 3)\n",
      "Expressions Shape : (10000,)\n",
      "Results Shape : (10000,)\n",
      "Test Accuracy over 10000 samples : 0.9895\n"
     ]
    }
   ],
   "source": [
    "def evaluate(model, features, encoded_labels, batch_size=10000):\n",
    "    selected_id = random.sample(range(10000), batch_size)\n",
    "    s_pic = np.array([features[x] for x in selected_id])\n",
    "    s_label = []\n",
    "    for letter_id in range(n_len):\n",
    "        letter_slice = np.array([encoded_labels[letter_id][x, :] for x in selected_id])\n",
    "        s_label.append(letter_slice)\n",
    "    batch_acc = 0\n",
    "    y_pred = model.predict(s_pic)\n",
    "#     print(np.array(y_pred).shape)\n",
    "#     print(np.array(s_label).shape)\n",
    "    y_pred = np.argmax(y_pred, axis=2).T\n",
    "    y_true = np.argmax(s_label, axis=2).T\n",
    "    batch_acc += np.mean(list(map(np.array_equal, y_true, y_pred)))\n",
    "    print(\"Test Accuracy over\", batch_size, \"samples :\", batch_acc)\n",
    "\n",
    "features, labels, results = load_dataset('', 9)\n",
    "encoded_labels = encode(labels)\n",
    "evaluate(model, features, encoded_labels, 10000)"
   ]
  },
  {
   "cell_type": "code",
   "execution_count": 18,
   "metadata": {
    "collapsed": false
   },
   "outputs": [
    {
     "data": {
      "text/plain": [
       "(7, 10000, 16)"
      ]
     },
     "execution_count": 18,
     "metadata": {},
     "output_type": "execute_result"
    }
   ],
   "source": [
    "y_pred = model.predict(features)\n",
    "np.array(y_pred).shape"
   ]
  },
  {
   "cell_type": "code",
   "execution_count": 19,
   "metadata": {
    "collapsed": false
   },
   "outputs": [
    {
     "data": {
      "text/plain": [
       "(10000, 7)"
      ]
     },
     "execution_count": 19,
     "metadata": {},
     "output_type": "execute_result"
    }
   ],
   "source": [
    "y_decode = np.argmax(y_pred, axis=2).T\n",
    "y_decode.shape"
   ]
  },
  {
   "cell_type": "code",
   "execution_count": 21,
   "metadata": {
    "collapsed": false
   },
   "outputs": [
    {
     "name": "stdout",
     "output_type": "stream",
     "text": [
      "(4*8)+8\n",
      "7+3*0  \n",
      "5+(5+2)\n",
      "(8-0)-8\n",
      "0+(0+2)\n",
      "(2*5)+0\n",
      "0+(1+8)\n",
      "2+(4+9)\n",
      "7*2+4  \n",
      "0-(7*1)\n"
     ]
    }
   ],
   "source": [
    "for i in range(10):\n",
    "    s = \"\".join([char_set[x] for x in y_decode[i, :]])\n",
    "    print(s)"
   ]
  },
  {
   "cell_type": "markdown",
   "metadata": {},
   "source": [
    "### 对测试集进行预测并输出"
   ]
  },
  {
   "cell_type": "code",
   "execution_count": 22,
   "metadata": {
    "collapsed": false,
    "scrolled": true
   },
   "outputs": [
    {
     "name": "stderr",
     "output_type": "stream",
     "text": [
      "Loading Batch #0: 100%|██████████████████████████████████| 10000/10000 [00:04<00:00, 2232.61it/s]\n",
      "Decoding Batch #0: 100%|███████████████████████████████| 10000/10000 [00:00<00:00, 231134.43it/s]\n",
      "Calculating Batch #0:   0%|                                            | 0/10000 [00:00<?, ?it/s]"
     ]
    },
    {
     "name": "stdout",
     "output_type": "stream",
     "text": [
      "Invalid Expression\n",
      "Invalid Expression\n",
      "Invalid Expression\n",
      "Invalid Expression\n",
      "Invalid Expression\n",
      "Invalid Expression\n",
      "Invalid Expression\n",
      "Invalid Expression\n",
      "Invalid Expression\n",
      "Invalid Expression\n"
     ]
    },
    {
     "name": "stderr",
     "output_type": "stream",
     "text": [
      "\r",
      "Calculating Batch #0:  62%|██████████████████▌           | 6168/10000 [00:00<00:00, 61602.95it/s]"
     ]
    },
    {
     "name": "stdout",
     "output_type": "stream",
     "text": [
      "Invalid Expression\n",
      "Invalid Expression\n",
      "Invalid Expression\n",
      "Invalid Expression\n",
      "Invalid Expression\n",
      "Invalid Expression\n",
      "Invalid Expression\n",
      "Invalid Expression\n",
      "Invalid Expression\n",
      "Invalid Expression\n"
     ]
    },
    {
     "name": "stderr",
     "output_type": "stream",
     "text": [
      "Calculating Batch #0: 100%|█████████████████████████████| 10000/10000 [00:00<00:00, 59719.59it/s]\n",
      "Loading Batch #1: 100%|██████████████████████████████████| 10000/10000 [00:04<00:00, 2264.90it/s]\n",
      "Decoding Batch #1: 100%|███████████████████████████████| 10000/10000 [00:00<00:00, 215487.02it/s]\n",
      "Calculating Batch #1:   0%|                                            | 0/10000 [00:00<?, ?it/s]"
     ]
    },
    {
     "name": "stdout",
     "output_type": "stream",
     "text": [
      "Invalid Expression\n",
      "Invalid Expression\n",
      "Invalid Expression\n",
      "Invalid Expression\n",
      "Invalid Expression\n",
      "Invalid Expression\n"
     ]
    },
    {
     "name": "stderr",
     "output_type": "stream",
     "text": [
      "\r",
      "Calculating Batch #1:  68%|████████████████████▍         | 6794/10000 [00:00<00:00, 67854.65it/s]"
     ]
    },
    {
     "name": "stdout",
     "output_type": "stream",
     "text": [
      "Invalid Expression\n",
      "Invalid Expression\n",
      "Invalid Expression\n",
      "Invalid Expression\n",
      "Invalid Expression\n"
     ]
    },
    {
     "name": "stderr",
     "output_type": "stream",
     "text": [
      "Calculating Batch #1: 100%|█████████████████████████████| 10000/10000 [00:00<00:00, 65277.74it/s]\n",
      "Loading Batch #2: 100%|██████████████████████████████████| 10000/10000 [00:04<00:00, 2246.95it/s]\n",
      "Decoding Batch #2: 100%|███████████████████████████████| 10000/10000 [00:00<00:00, 207386.25it/s]\n",
      "Calculating Batch #2:   0%|                                            | 0/10000 [00:00<?, ?it/s]"
     ]
    },
    {
     "name": "stdout",
     "output_type": "stream",
     "text": [
      "Invalid Expression\n",
      "Invalid Expression\n",
      "Invalid Expression\n",
      "Invalid Expression\n",
      "Invalid Expression\n",
      "Invalid Expression\n",
      "Invalid Expression\n",
      "Invalid Expression\n",
      "Invalid Expression\n",
      "Invalid Expression\n",
      "Invalid Expression\n"
     ]
    },
    {
     "name": "stderr",
     "output_type": "stream",
     "text": [
      "\r",
      "Calculating Batch #2:  48%|██████████████▍               | 4819/10000 [00:00<00:00, 48130.03it/s]"
     ]
    },
    {
     "name": "stdout",
     "output_type": "stream",
     "text": [
      "Invalid Expression\n",
      "Invalid Expression\n",
      "Invalid Expression\n",
      "Invalid Expression\n",
      "Invalid Expression\n",
      "Invalid Expression\n",
      "Invalid Expression\n",
      "Invalid Expression\n",
      "Invalid Expression\n",
      "Invalid Expression\n",
      "Invalid Expression\n",
      "Invalid Expression\n",
      "Invalid Expression\n",
      "Invalid Expression\n",
      "Invalid Expression\n"
     ]
    },
    {
     "name": "stderr",
     "output_type": "stream",
     "text": [
      "\r",
      "Calculating Batch #2:  93%|███████████████████████████▉  | 9303/10000 [00:00<00:00, 47074.73it/s]"
     ]
    },
    {
     "name": "stdout",
     "output_type": "stream",
     "text": [
      "Invalid Expression\n"
     ]
    },
    {
     "name": "stderr",
     "output_type": "stream",
     "text": [
      "Calculating Batch #2: 100%|█████████████████████████████| 10000/10000 [00:00<00:00, 47110.92it/s]\n",
      "Loading Batch #3: 100%|██████████████████████████████████| 10000/10000 [00:04<00:00, 2229.90it/s]\n",
      "Decoding Batch #3: 100%|███████████████████████████████| 10000/10000 [00:00<00:00, 211342.54it/s]\n",
      "Calculating Batch #3:   0%|                                            | 0/10000 [00:00<?, ?it/s]"
     ]
    },
    {
     "name": "stdout",
     "output_type": "stream",
     "text": [
      "Invalid Expression\n",
      "Invalid Expression\n",
      "Invalid Expression\n",
      "Invalid Expression\n",
      "Invalid Expression\n",
      "Invalid Expression\n",
      "Invalid Expression\n",
      "Invalid Expression\n",
      "Invalid Expression\n",
      "Invalid Expression\n",
      "Invalid Expression\n",
      "Invalid Expression\n"
     ]
    },
    {
     "name": "stderr",
     "output_type": "stream",
     "text": [
      "\r",
      "Calculating Batch #3:  55%|████████████████▌             | 5515/10000 [00:00<00:00, 55081.11it/s]"
     ]
    },
    {
     "name": "stdout",
     "output_type": "stream",
     "text": [
      "Invalid Expression\n",
      "Invalid Expression\n",
      "Invalid Expression\n",
      "Invalid Expression\n",
      "Invalid Expression\n",
      "Invalid Expression\n",
      "Invalid Expression\n",
      "Invalid Expression\n"
     ]
    },
    {
     "name": "stderr",
     "output_type": "stream",
     "text": [
      "Calculating Batch #3: 100%|█████████████████████████████| 10000/10000 [00:00<00:00, 56109.59it/s]\n",
      "Loading Batch #4: 100%|██████████████████████████████████| 10000/10000 [00:04<00:00, 2224.34it/s]\n",
      "Decoding Batch #4: 100%|███████████████████████████████| 10000/10000 [00:00<00:00, 243599.95it/s]\n",
      "Calculating Batch #4:   0%|                                            | 0/10000 [00:00<?, ?it/s]"
     ]
    },
    {
     "name": "stdout",
     "output_type": "stream",
     "text": [
      "Invalid Expression\n",
      "Invalid Expression\n",
      "Invalid Expression\n",
      "Invalid Expression\n",
      "Invalid Expression\n",
      "Invalid Expression\n",
      "Invalid Expression\n",
      "Invalid Expression\n",
      "Invalid Expression\n",
      "Invalid Expression\n",
      "Invalid Expression\n",
      "Invalid Expression\n"
     ]
    },
    {
     "name": "stderr",
     "output_type": "stream",
     "text": [
      "\r",
      "Calculating Batch #4:  51%|███████████████▍              | 5144/10000 [00:00<00:00, 51375.99it/s]"
     ]
    },
    {
     "name": "stdout",
     "output_type": "stream",
     "text": [
      "Invalid Expression\n",
      "Invalid Expression\n",
      "Invalid Expression\n",
      "Invalid Expression\n",
      "Invalid Expression\n"
     ]
    },
    {
     "name": "stderr",
     "output_type": "stream",
     "text": [
      "Calculating Batch #4: 100%|█████████████████████████████| 10000/10000 [00:00<00:00, 55179.28it/s]\n",
      "Loading Batch #5: 100%|██████████████████████████████████| 10000/10000 [00:04<00:00, 2176.50it/s]\n",
      "Decoding Batch #5: 100%|███████████████████████████████| 10000/10000 [00:00<00:00, 207290.93it/s]\n",
      "Calculating Batch #5:   0%|                                            | 0/10000 [00:00<?, ?it/s]"
     ]
    },
    {
     "name": "stdout",
     "output_type": "stream",
     "text": [
      "Invalid Expression\n",
      "Invalid Expression\n",
      "Invalid Expression\n",
      "Invalid Expression\n",
      "Invalid Expression\n",
      "Invalid Expression\n",
      "Invalid Expression\n",
      "Invalid Expression\n",
      "Invalid Expression\n",
      "Invalid Expression\n",
      "Invalid Expression\n",
      "Invalid Expression\n",
      "Invalid Expression\n",
      "Invalid Expression\n"
     ]
    },
    {
     "name": "stderr",
     "output_type": "stream",
     "text": [
      "\r",
      "Calculating Batch #5:  50%|███████████████               | 5033/10000 [00:00<00:00, 50267.01it/s]"
     ]
    },
    {
     "name": "stdout",
     "output_type": "stream",
     "text": [
      "Invalid Expression\n",
      "Invalid Expression\n",
      "Invalid Expression\n",
      "Invalid Expression\n",
      "Invalid Expression\n"
     ]
    },
    {
     "name": "stderr",
     "output_type": "stream",
     "text": [
      "Calculating Batch #5: 100%|█████████████████████████████| 10000/10000 [00:00<00:00, 54876.35it/s]\n",
      "Loading Batch #6: 100%|██████████████████████████████████| 10000/10000 [00:04<00:00, 2205.13it/s]\n",
      "Decoding Batch #6: 100%|███████████████████████████████| 10000/10000 [00:00<00:00, 223382.88it/s]\n",
      "Calculating Batch #6:   0%|                                            | 0/10000 [00:00<?, ?it/s]"
     ]
    },
    {
     "name": "stdout",
     "output_type": "stream",
     "text": [
      "Invalid Expression\n",
      "Invalid Expression\n",
      "Invalid Expression\n",
      "Invalid Expression\n",
      "Invalid Expression\n",
      "Invalid Expression\n",
      "Invalid Expression\n",
      "Invalid Expression\n"
     ]
    },
    {
     "name": "stderr",
     "output_type": "stream",
     "text": [
      "\r",
      "Calculating Batch #6:  57%|█████████████████             | 5681/10000 [00:00<00:00, 56610.97it/s]"
     ]
    },
    {
     "name": "stdout",
     "output_type": "stream",
     "text": [
      "Invalid Expression\n",
      "Invalid Expression\n",
      "Invalid Expression\n"
     ]
    },
    {
     "name": "stderr",
     "output_type": "stream",
     "text": [
      "Calculating Batch #6: 100%|█████████████████████████████| 10000/10000 [00:00<00:00, 58671.36it/s]\n",
      "Loading Batch #7: 100%|██████████████████████████████████| 10000/10000 [00:04<00:00, 2226.41it/s]\n",
      "Decoding Batch #7: 100%|███████████████████████████████| 10000/10000 [00:00<00:00, 181595.19it/s]\n",
      "Calculating Batch #7:   0%|                                            | 0/10000 [00:00<?, ?it/s]"
     ]
    },
    {
     "name": "stdout",
     "output_type": "stream",
     "text": [
      "Invalid Expression\n",
      "Invalid Expression\n",
      "Invalid Expression\n",
      "Invalid Expression\n",
      "Invalid Expression\n",
      "Invalid Expression\n",
      "Invalid Expression\n",
      "Invalid Expression\n"
     ]
    },
    {
     "name": "stderr",
     "output_type": "stream",
     "text": [
      "\r",
      "Calculating Batch #7:  46%|█████████████▊                | 4613/10000 [00:00<00:00, 46072.59it/s]"
     ]
    },
    {
     "name": "stdout",
     "output_type": "stream",
     "text": [
      "Invalid Expression\n",
      "Invalid Expression\n",
      "Invalid Expression\n",
      "Invalid Expression\n",
      "Invalid Expression\n",
      "Invalid Expression\n",
      "Invalid Expression\n",
      "Invalid Expression\n",
      "Invalid Expression\n",
      "Invalid Expression\n",
      "Invalid Expression\n",
      "Invalid Expression\n",
      "Invalid Expression\n"
     ]
    },
    {
     "name": "stderr",
     "output_type": "stream",
     "text": [
      "\r",
      "Calculating Batch #7:  89%|██████████████████████████▊   | 8918/10000 [00:00<00:00, 44822.18it/s]"
     ]
    },
    {
     "name": "stdout",
     "output_type": "stream",
     "text": [
      "Invalid Expression\n",
      "Invalid Expression\n",
      "Invalid Expression\n",
      "Invalid Expression\n",
      "Invalid Expression\n"
     ]
    },
    {
     "name": "stderr",
     "output_type": "stream",
     "text": [
      "Calculating Batch #7: 100%|█████████████████████████████| 10000/10000 [00:00<00:00, 42319.86it/s]\n",
      "Loading Batch #8: 100%|██████████████████████████████████| 10000/10000 [00:04<00:00, 2219.03it/s]\n",
      "Decoding Batch #8: 100%|███████████████████████████████| 10000/10000 [00:00<00:00, 180693.17it/s]\n",
      "Calculating Batch #8:   0%|                                            | 0/10000 [00:00<?, ?it/s]"
     ]
    },
    {
     "name": "stdout",
     "output_type": "stream",
     "text": [
      "Invalid Expression\n",
      "Invalid Expression\n",
      "Invalid Expression\n",
      "Invalid Expression\n",
      "Invalid Expression\n",
      "Invalid Expression\n",
      "Invalid Expression\n",
      "Invalid Expression\n",
      "Invalid Expression\n",
      "Invalid Expression\n",
      "Invalid Expression\n",
      "Invalid Expression\n"
     ]
    },
    {
     "name": "stderr",
     "output_type": "stream",
     "text": [
      "\r",
      "Calculating Batch #8:  49%|██████████████▊               | 4925/10000 [00:00<00:00, 49188.95it/s]"
     ]
    },
    {
     "name": "stdout",
     "output_type": "stream",
     "text": [
      "Invalid Expression\n",
      "Invalid Expression\n",
      "Invalid Expression\n",
      "Invalid Expression\n",
      "Invalid Expression\n",
      "Invalid Expression\n",
      "Invalid Expression\n",
      "Invalid Expression\n",
      "Invalid Expression\n",
      "Invalid Expression\n",
      "Invalid Expression\n",
      "Invalid Expression\n"
     ]
    },
    {
     "name": "stderr",
     "output_type": "stream",
     "text": [
      "Calculating Batch #8: 100%|█████████████████████████████| 10000/10000 [00:00<00:00, 47334.32it/s]\n",
      "Loading Batch #9: 100%|██████████████████████████████████| 10000/10000 [00:04<00:00, 2221.55it/s]\n",
      "Decoding Batch #9: 100%|███████████████████████████████| 10000/10000 [00:00<00:00, 199906.77it/s]\n",
      "Calculating Batch #9:   0%|                                            | 0/10000 [00:00<?, ?it/s]"
     ]
    },
    {
     "name": "stdout",
     "output_type": "stream",
     "text": [
      "Invalid Expression\n",
      "Invalid Expression\n",
      "Invalid Expression\n",
      "Invalid Expression\n",
      "Invalid Expression\n",
      "Invalid Expression\n",
      "Invalid Expression\n",
      "Invalid Expression\n",
      "Invalid Expression\n",
      "Invalid Expression\n",
      "Invalid Expression\n",
      "Invalid Expression\n",
      "Invalid Expression\n",
      "Invalid Expression\n",
      "Invalid Expression\n"
     ]
    },
    {
     "name": "stderr",
     "output_type": "stream",
     "text": [
      "\r",
      "Calculating Batch #9:  48%|██████████████▎               | 4751/10000 [00:00<00:00, 47450.76it/s]"
     ]
    },
    {
     "name": "stdout",
     "output_type": "stream",
     "text": [
      "Invalid Expression\n",
      "Invalid Expression\n",
      "Invalid Expression\n",
      "Invalid Expression\n",
      "Invalid Expression\n",
      "Invalid Expression\n",
      "Invalid Expression\n",
      "Invalid Expression\n",
      "Invalid Expression\n",
      "Invalid Expression\n",
      "Invalid Expression\n",
      "Invalid Expression\n",
      "Invalid Expression\n"
     ]
    },
    {
     "name": "stderr",
     "output_type": "stream",
     "text": [
      "Calculating Batch #9: 100%|█████████████████████████████| 10000/10000 [00:00<00:00, 47559.59it/s]\n",
      "Loading Batch #10: 100%|█████████████████████████████████| 10000/10000 [00:04<00:00, 2215.73it/s]\n",
      "Decoding Batch #10: 100%|██████████████████████████████| 10000/10000 [00:00<00:00, 216722.94it/s]\n",
      "Calculating Batch #10:   0%|                                           | 0/10000 [00:00<?, ?it/s]"
     ]
    },
    {
     "name": "stdout",
     "output_type": "stream",
     "text": [
      "Invalid Expression\n",
      "Invalid Expression\n",
      "Invalid Expression\n",
      "Invalid Expression\n",
      "Invalid Expression\n",
      "Invalid Expression\n",
      "Invalid Expression\n",
      "Invalid Expression\n",
      "Invalid Expression\n"
     ]
    },
    {
     "name": "stderr",
     "output_type": "stream",
     "text": [
      "\r",
      "Calculating Batch #10:  56%|████████████████▏            | 5587/10000 [00:00<00:00, 55800.87it/s]"
     ]
    },
    {
     "name": "stdout",
     "output_type": "stream",
     "text": [
      "Invalid Expression\n",
      "Invalid Expression\n",
      "Invalid Expression\n",
      "Invalid Expression\n",
      "Invalid Expression\n",
      "Invalid Expression\n",
      "Invalid Expression\n",
      "Invalid Expression\n",
      "Invalid Expression\n",
      "Invalid Expression\n"
     ]
    },
    {
     "name": "stderr",
     "output_type": "stream",
     "text": [
      "Calculating Batch #10: 100%|████████████████████████████| 10000/10000 [00:00<00:00, 54212.95it/s]\n",
      "Loading Batch #11: 100%|█████████████████████████████████| 10000/10000 [00:04<00:00, 2193.88it/s]\n",
      "Decoding Batch #11: 100%|██████████████████████████████| 10000/10000 [00:00<00:00, 227254.72it/s]\n",
      "Calculating Batch #11:   0%|                                           | 0/10000 [00:00<?, ?it/s]"
     ]
    },
    {
     "name": "stdout",
     "output_type": "stream",
     "text": [
      "Invalid Expression\n",
      "Invalid Expression\n",
      "Invalid Expression\n",
      "Invalid Expression\n",
      "Invalid Expression\n",
      "Invalid Expression\n",
      "Invalid Expression\n",
      "Invalid Expression\n",
      "Invalid Expression\n",
      "Invalid Expression\n",
      "Invalid Expression\n",
      "Invalid Expression\n",
      "Invalid Expression\n",
      "Invalid Expression\n"
     ]
    },
    {
     "name": "stderr",
     "output_type": "stream",
     "text": [
      "\r",
      "Calculating Batch #11:  45%|█████████████▏               | 4534/10000 [00:00<00:00, 45282.93it/s]"
     ]
    },
    {
     "name": "stdout",
     "output_type": "stream",
     "text": [
      "Invalid Expression\n",
      "Invalid Expression\n",
      "Invalid Expression\n",
      "Invalid Expression\n",
      "Invalid Expression\n"
     ]
    },
    {
     "name": "stderr",
     "output_type": "stream",
     "text": [
      "\r",
      "Calculating Batch #11:  95%|███████████████████████████▌ | 9517/10000 [00:00<00:00, 46541.18it/s]"
     ]
    },
    {
     "name": "stdout",
     "output_type": "stream",
     "text": [
      "Invalid Expression\n"
     ]
    },
    {
     "name": "stderr",
     "output_type": "stream",
     "text": [
      "Calculating Batch #11: 100%|████████████████████████████| 10000/10000 [00:00<00:00, 47334.11it/s]\n",
      "Loading Batch #12: 100%|█████████████████████████████████| 10000/10000 [00:04<00:00, 2196.83it/s]\n",
      "Decoding Batch #12: 100%|██████████████████████████████| 10000/10000 [00:00<00:00, 206344.56it/s]\n",
      "Calculating Batch #12:   0%|                                           | 0/10000 [00:00<?, ?it/s]"
     ]
    },
    {
     "name": "stdout",
     "output_type": "stream",
     "text": [
      "Invalid Expression\n",
      "Invalid Expression\n",
      "Invalid Expression\n",
      "Invalid Expression\n",
      "Invalid Expression\n",
      "Invalid Expression\n",
      "Invalid Expression\n",
      "Invalid Expression\n",
      "Invalid Expression\n"
     ]
    },
    {
     "name": "stderr",
     "output_type": "stream",
     "text": [
      "\r",
      "Calculating Batch #12:  52%|███████████████              | 5203/10000 [00:00<00:00, 51965.75it/s]"
     ]
    },
    {
     "name": "stdout",
     "output_type": "stream",
     "text": [
      "Invalid Expression\n",
      "Invalid Expression\n",
      "Invalid Expression\n",
      "Invalid Expression\n",
      "Invalid Expression\n",
      "Invalid Expression\n",
      "Invalid Expression\n",
      "Invalid Expression\n",
      "Invalid Expression\n",
      "Invalid Expression\n",
      "Invalid Expression\n",
      "Invalid Expression\n"
     ]
    },
    {
     "name": "stderr",
     "output_type": "stream",
     "text": [
      "\r",
      "Calculating Batch #12:  99%|████████████████████████████▌| 9862/10000 [00:00<00:00, 50206.70it/s]"
     ]
    },
    {
     "name": "stdout",
     "output_type": "stream",
     "text": [
      "Invalid Expression\n"
     ]
    },
    {
     "name": "stderr",
     "output_type": "stream",
     "text": [
      "Calculating Batch #12: 100%|████████████████████████████| 10000/10000 [00:00<00:00, 48719.54it/s]\n",
      "Loading Batch #13: 100%|█████████████████████████████████| 10000/10000 [00:04<00:00, 2223.26it/s]\n",
      "Decoding Batch #13: 100%|██████████████████████████████| 10000/10000 [00:00<00:00, 224982.51it/s]\n",
      "Calculating Batch #13:   0%|                                           | 0/10000 [00:00<?, ?it/s]"
     ]
    },
    {
     "name": "stdout",
     "output_type": "stream",
     "text": [
      "Invalid Expression\n",
      "Invalid Expression\n",
      "Invalid Expression\n",
      "Invalid Expression\n"
     ]
    },
    {
     "name": "stderr",
     "output_type": "stream",
     "text": [
      "\r",
      "Calculating Batch #13:  57%|████████████████▌            | 5695/10000 [00:00<00:00, 56879.13it/s]"
     ]
    },
    {
     "name": "stdout",
     "output_type": "stream",
     "text": [
      "Invalid Expression\n",
      "Invalid Expression\n",
      "Invalid Expression\n",
      "Invalid Expression\n",
      "Invalid Expression\n",
      "Invalid Expression\n",
      "Invalid Expression\n"
     ]
    },
    {
     "name": "stderr",
     "output_type": "stream",
     "text": [
      "Calculating Batch #13: 100%|████████████████████████████| 10000/10000 [00:00<00:00, 53696.51it/s]\n",
      "Loading Batch #14: 100%|█████████████████████████████████| 10000/10000 [00:04<00:00, 2226.33it/s]\n",
      "Decoding Batch #14: 100%|██████████████████████████████| 10000/10000 [00:00<00:00, 211353.19it/s]\n",
      "Calculating Batch #14:   0%|                                           | 0/10000 [00:00<?, ?it/s]"
     ]
    },
    {
     "name": "stdout",
     "output_type": "stream",
     "text": [
      "Invalid Expression\n",
      "Invalid Expression\n",
      "Invalid Expression\n",
      "Invalid Expression\n",
      "Invalid Expression\n",
      "Invalid Expression\n",
      "Invalid Expression\n",
      "Invalid Expression\n",
      "Invalid Expression\n"
     ]
    },
    {
     "name": "stderr",
     "output_type": "stream",
     "text": [
      "\r",
      "Calculating Batch #14:  49%|██████████████▏              | 4872/10000 [00:00<00:00, 48659.60it/s]"
     ]
    },
    {
     "name": "stdout",
     "output_type": "stream",
     "text": [
      "Invalid Expression\n",
      "Invalid Expression\n",
      "Invalid Expression\n",
      "Invalid Expression\n",
      "Invalid Expression\n",
      "Invalid Expression\n",
      "Invalid Expression\n",
      "Invalid Expression\n",
      "Invalid Expression\n",
      "Invalid Expression\n",
      "Invalid Expression\n"
     ]
    },
    {
     "name": "stderr",
     "output_type": "stream",
     "text": [
      "Calculating Batch #14: 100%|████████████████████████████| 10000/10000 [00:00<00:00, 48719.54it/s]\n",
      "Loading Batch #15: 100%|█████████████████████████████████| 10000/10000 [00:04<00:00, 2224.22it/s]\n",
      "Decoding Batch #15: 100%|██████████████████████████████| 10000/10000 [00:00<00:00, 213306.21it/s]\n",
      "Calculating Batch #15:   0%|                                           | 0/10000 [00:00<?, ?it/s]"
     ]
    },
    {
     "name": "stdout",
     "output_type": "stream",
     "text": [
      "Invalid Expression\n",
      "Invalid Expression\n",
      "Invalid Expression\n",
      "Invalid Expression\n",
      "Invalid Expression\n",
      "Invalid Expression\n",
      "Invalid Expression\n",
      "Invalid Expression\n",
      "Invalid Expression\n",
      "Invalid Expression\n",
      "Invalid Expression\n"
     ]
    },
    {
     "name": "stderr",
     "output_type": "stream",
     "text": [
      "\r",
      "Calculating Batch #15:  46%|█████████████▍               | 4635/10000 [00:00<00:00, 46291.99it/s]"
     ]
    },
    {
     "name": "stdout",
     "output_type": "stream",
     "text": [
      "Invalid Expression\n",
      "Invalid Expression\n",
      "Invalid Expression\n",
      "Invalid Expression\n",
      "Invalid Expression\n",
      "Invalid Expression\n",
      "Invalid Expression\n",
      "Invalid Expression\n",
      "Invalid Expression\n",
      "Invalid Expression\n",
      "Invalid Expression\n",
      "Invalid Expression\n"
     ]
    },
    {
     "name": "stderr",
     "output_type": "stream",
     "text": [
      "\r",
      "Calculating Batch #15:  90%|██████████████████████████▏  | 9025/10000 [00:00<00:00, 45529.67it/s]"
     ]
    },
    {
     "name": "stdout",
     "output_type": "stream",
     "text": [
      "Invalid Expression\n",
      "Invalid Expression\n"
     ]
    },
    {
     "name": "stderr",
     "output_type": "stream",
     "text": [
      "Calculating Batch #15: 100%|████████████████████████████| 10000/10000 [00:00<00:00, 44988.54it/s]\n",
      "Loading Batch #16: 100%|█████████████████████████████████| 10000/10000 [00:04<00:00, 2174.48it/s]\n",
      "Decoding Batch #16: 100%|██████████████████████████████| 10000/10000 [00:00<00:00, 183753.58it/s]\n",
      "Calculating Batch #16:   0%|                                           | 0/10000 [00:00<?, ?it/s]"
     ]
    },
    {
     "name": "stdout",
     "output_type": "stream",
     "text": [
      "Invalid Expression\n",
      "Invalid Expression\n",
      "Invalid Expression\n",
      "Invalid Expression\n",
      "Invalid Expression\n",
      "Invalid Expression\n",
      "Invalid Expression\n",
      "Invalid Expression\n"
     ]
    },
    {
     "name": "stderr",
     "output_type": "stream",
     "text": [
      "\r",
      "Calculating Batch #16:  52%|███████████████▏             | 5245/10000 [00:00<00:00, 52384.36it/s]"
     ]
    },
    {
     "name": "stdout",
     "output_type": "stream",
     "text": [
      "Invalid Expression\n",
      "Invalid Expression\n",
      "Invalid Expression\n",
      "Invalid Expression\n",
      "Invalid Expression\n",
      "Invalid Expression\n",
      "Invalid Expression\n",
      "Invalid Expression\n",
      "Invalid Expression\n",
      "Invalid Expression\n",
      "Invalid Expression\n"
     ]
    },
    {
     "name": "stderr",
     "output_type": "stream",
     "text": [
      "Calculating Batch #16: 100%|████████████████████████████| 10000/10000 [00:00<00:00, 50188.45it/s]\n",
      "Loading Batch #17: 100%|█████████████████████████████████| 10000/10000 [00:04<00:00, 2189.43it/s]\n",
      "Decoding Batch #17: 100%|██████████████████████████████| 10000/10000 [00:00<00:00, 220607.71it/s]\n",
      "Calculating Batch #17:   0%|                                           | 0/10000 [00:00<?, ?it/s]"
     ]
    },
    {
     "name": "stdout",
     "output_type": "stream",
     "text": [
      "Invalid Expression\n",
      "Invalid Expression\n",
      "Invalid Expression\n",
      "Invalid Expression\n",
      "Invalid Expression\n",
      "Invalid Expression\n",
      "Invalid Expression\n"
     ]
    },
    {
     "name": "stderr",
     "output_type": "stream",
     "text": [
      "\r",
      "Calculating Batch #17:  40%|███████████▍                 | 3950/10000 [00:00<00:00, 39357.59it/s]"
     ]
    },
    {
     "name": "stdout",
     "output_type": "stream",
     "text": [
      "Invalid Expression\n",
      "Invalid Expression\n",
      "Invalid Expression\n",
      "Invalid Expression\n",
      "Invalid Expression\n",
      "Invalid Expression\n",
      "Invalid Expression\n",
      "Invalid Expression\n"
     ]
    },
    {
     "name": "stderr",
     "output_type": "stream",
     "text": [
      "\r",
      "Calculating Batch #17:  82%|███████████████████████▊     | 8193/10000 [00:00<00:00, 40217.22it/s]"
     ]
    },
    {
     "name": "stdout",
     "output_type": "stream",
     "text": [
      "Invalid Expression\n",
      "Invalid Expression\n"
     ]
    },
    {
     "name": "stderr",
     "output_type": "stream",
     "text": [
      "Calculating Batch #17: 100%|████████████████████████████| 10000/10000 [00:00<00:00, 42099.35it/s]\n",
      "Loading Batch #18: 100%|█████████████████████████████████| 10000/10000 [00:04<00:00, 2220.95it/s]\n",
      "Decoding Batch #18: 100%|██████████████████████████████| 10000/10000 [00:00<00:00, 206155.92it/s]\n",
      "Calculating Batch #18:   0%|                                           | 0/10000 [00:00<?, ?it/s]"
     ]
    },
    {
     "name": "stdout",
     "output_type": "stream",
     "text": [
      "Invalid Expression\n",
      "Invalid Expression\n",
      "Invalid Expression\n",
      "Invalid Expression\n",
      "Invalid Expression\n",
      "Invalid Expression\n",
      "Invalid Expression\n",
      "Invalid Expression\n"
     ]
    },
    {
     "name": "stderr",
     "output_type": "stream",
     "text": [
      "\r",
      "Calculating Batch #18:  48%|█████████████▉               | 4824/10000 [00:00<00:00, 48179.05it/s]"
     ]
    },
    {
     "name": "stdout",
     "output_type": "stream",
     "text": [
      "Invalid Expression\n",
      "Invalid Expression\n",
      "Invalid Expression\n",
      "Invalid Expression\n",
      "Invalid Expression\n",
      "Invalid Expression\n",
      "Invalid Expression\n",
      "Invalid Expression\n",
      "Invalid Expression\n",
      "Invalid Expression\n",
      "Invalid Expression\n",
      "Invalid Expression\n",
      "Invalid Expression\n",
      "Invalid Expression\n",
      "Invalid Expression\n"
     ]
    },
    {
     "name": "stderr",
     "output_type": "stream",
     "text": [
      "\r",
      "Calculating Batch #18:  89%|█████████████████████████▉   | 8949/10000 [00:00<00:00, 45848.69it/s]"
     ]
    },
    {
     "name": "stdout",
     "output_type": "stream",
     "text": [
      "Invalid Expression\n",
      "Invalid Expression\n"
     ]
    },
    {
     "name": "stderr",
     "output_type": "stream",
     "text": [
      "Calculating Batch #18: 100%|████████████████████████████| 10000/10000 [00:00<00:00, 44988.73it/s]\n",
      "Loading Batch #19: 100%|█████████████████████████████████| 10000/10000 [00:04<00:00, 2225.20it/s]\n",
      "Decoding Batch #19: 100%|██████████████████████████████| 10000/10000 [00:00<00:00, 201829.71it/s]\n",
      "Calculating Batch #19:   0%|                                           | 0/10000 [00:00<?, ?it/s]"
     ]
    },
    {
     "name": "stdout",
     "output_type": "stream",
     "text": [
      "Invalid Expression\n",
      "Invalid Expression\n",
      "Invalid Expression\n",
      "Invalid Expression\n",
      "Invalid Expression\n",
      "Invalid Expression\n",
      "Invalid Expression\n"
     ]
    },
    {
     "name": "stderr",
     "output_type": "stream",
     "text": [
      "\r",
      "Calculating Batch #19:  53%|███████████████▎             | 5295/10000 [00:00<00:00, 52884.11it/s]"
     ]
    },
    {
     "name": "stdout",
     "output_type": "stream",
     "text": [
      "Invalid Expression\n",
      "Invalid Expression\n",
      "Invalid Expression\n",
      "Invalid Expression\n",
      "Invalid Expression\n",
      "Invalid Expression\n",
      "Invalid Expression\n",
      "Invalid Expression\n"
     ]
    },
    {
     "name": "stderr",
     "output_type": "stream",
     "text": [
      "Calculating Batch #19: 100%|████████████████████████████| 10000/10000 [00:00<00:00, 51481.92it/s]\n"
     ]
    }
   ],
   "source": [
    "n_validation = 200000\n",
    "batch = 10000\n",
    "n_batch = int(n_validation / batch)\n",
    "\n",
    "y_all_text = []\n",
    "y_all_res = []\n",
    "for i_batch in range(n_batch):\n",
    "    img_db = []\n",
    "    for i in tqdm(range(batch), desc=\"Loading Batch #\" + str(i_batch)):\n",
    "        img = Image.open('C:\\\\image_contest_level_1_validate\\\\' + str(i + batch * i_batch) + '.png').convert('RGB')\n",
    "        img_db.append(np.array(img, dtype=np.uint8))\n",
    "    x_pred = np.array(img_db)\n",
    "    \n",
    "    # Predict Using Trained Model\n",
    "    y_pred = model.predict(x_pred)\n",
    "    y_decode = np.argmax(y_pred, axis=2).T\n",
    "    \n",
    "    # Decode and store text expression\n",
    "    y_text = []\n",
    "    for i in tqdm(range(batch), desc=\"Decoding Batch #\" + str(i_batch)):\n",
    "        y_text.append(\"\".join([char_set[x] for x in y_decode[i, :]]))\n",
    "\n",
    "    # Calculate the result of the expression\n",
    "    y_res = []\n",
    "    for i in tqdm(range(batch), desc=\"Calculating Batch #\" + str(i_batch)):\n",
    "        val = 0\n",
    "        try:\n",
    "            val = eval(y_text[i])\n",
    "        except Exception as e:\n",
    "            print(\"Invalid Expression\")\n",
    "        y_res.append(val)\n",
    "\n",
    "    y_all_text += y_text\n",
    "    y_all_res += y_res"
   ]
  },
  {
   "cell_type": "code",
   "execution_count": 24,
   "metadata": {
    "collapsed": false
   },
   "outputs": [
    {
     "name": "stdout",
     "output_type": "stream",
     "text": [
      "Expressions: 200000\n",
      "Results: 200000\n"
     ]
    }
   ],
   "source": [
    "print(\"Expressions:\", len(y_all_text))\n",
    "print(\"Results:\", len(y_all_res))"
   ]
  },
  {
   "cell_type": "markdown",
   "metadata": {},
   "source": [
    "### 将预测的运算表达式文本与相应计算结果合并输出为txt文件"
   ]
  },
  {
   "cell_type": "code",
   "execution_count": 32,
   "metadata": {
    "collapsed": false
   },
   "outputs": [
    {
     "name": "stderr",
     "output_type": "stream",
     "text": [
      "Write #199999 to file: 100%|█████████████████████████| 200000/200000 [00:01<00:00, 140892.52it/s]\n"
     ]
    }
   ],
   "source": [
    "with open('validation_result.txt', 'w') as f:\n",
    "    for i in tqdm(range(n_validation), desc='Write #' + str(i) + \" to file\"):\n",
    "        line = str(y_all_text[i].replace(\" \", \"\")) + ' ' + str(y_all_res[i]) + '\\n'\n",
    "        f.writelines(line)"
   ]
  },
  {
   "cell_type": "markdown",
   "metadata": {},
   "source": [
    "#### 第一次提交的准确率分数为 0.988915."
   ]
  },
  {
   "cell_type": "markdown",
   "metadata": {},
   "source": [
    "## Solution 2：使用CTC进一步提高准确率"
   ]
  },
  {
   "cell_type": "code",
   "execution_count": 3,
   "metadata": {
    "collapsed": true
   },
   "outputs": [],
   "source": [
    "# 字符集：去掉空格\n",
    "char_set = '0123456789+-*() '\n",
    "\n",
    "# 字符集长度 = 15\n",
    "n_class = len(char_set)\n",
    "\n",
    "# 图片所含文本内容的长度 = 7\n",
    "n_len = 7\n",
    "\n",
    "# 图片尺寸\n",
    "width, height = 180, 60"
   ]
  },
  {
   "cell_type": "code",
   "execution_count": 103,
   "metadata": {
    "collapsed": false
   },
   "outputs": [],
   "source": [
    "from keras import backend as K\n",
    "\n",
    "def ctc_lambda_func(args):\n",
    "    y_pred, labels, input_length, label_length = args\n",
    "    y_pred = y_pred[:, 2:, :]\n",
    "    return K.ctc_batch_cost(labels, y_pred, input_length, label_length)"
   ]
  },
  {
   "cell_type": "markdown",
   "metadata": {},
   "source": [
    "### 数据预处理"
   ]
  },
  {
   "cell_type": "code",
   "execution_count": 20,
   "metadata": {
    "collapsed": true
   },
   "outputs": [],
   "source": [
    "# 提供pickle文件所在位置，以及要取的数据集编号（0-9）\n",
    "def load_dataset(path, set_id):\n",
    "    if set_id > 9 or set_id < 0:\n",
    "        print('Error: Invalid Dataset ID. Range 0 to 9.')\n",
    "        return None\n",
    "    with open('%stest_data_%s.p'%(path, set_id), mode='rb') as file:\n",
    "        dataset = pickle.load(file)\n",
    "\n",
    "    features = dataset['data']\n",
    "    labels = np.array(dataset['expr'])\n",
    "    results = np.array(dataset['res'])\n",
    "#     print('Features Shape :', features.shape)\n",
    "#     print('Expressions Shape :', labels.shape)\n",
    "#     print('Results Shape :', results.shape)\n",
    "\n",
    "    return features, labels, results"
   ]
  },
  {
   "cell_type": "code",
   "execution_count": 6,
   "metadata": {
    "collapsed": false
   },
   "outputs": [
    {
     "name": "stdout",
     "output_type": "stream",
     "text": [
      "Features Shape : (10000, 60, 180, 3)\n",
      "Expressions Shape : (10000,)\n",
      "Results Shape : (10000,)\n"
     ]
    }
   ],
   "source": [
    "features, labels, results = load_dataset('', 0)"
   ]
  },
  {
   "cell_type": "code",
   "execution_count": 70,
   "metadata": {
    "collapsed": false
   },
   "outputs": [
    {
     "data": {
      "text/plain": [
       "array([[13,  9, 12,  7, 14, 11,  4],\n",
       "       [ 9, 11,  6, 10,  3, 15, 15],\n",
       "       [13,  9, 12,  6, 14, 11,  2],\n",
       "       [ 0, 11,  8, 11,  7, 15, 15],\n",
       "       [13,  1, 10,  4, 14, 10,  3],\n",
       "       [13,  6, 11,  2, 14, 11,  1],\n",
       "       [ 2, 11,  8, 11,  7, 15, 15],\n",
       "       [ 1, 12, 13,  3, 12,  4, 14],\n",
       "       [ 9, 12,  6, 11,  2, 15, 15],\n",
       "       [ 1, 12, 13,  5, 12,  9, 14]], dtype=uint8)"
      ]
     },
     "execution_count": 70,
     "metadata": {},
     "output_type": "execute_result"
    }
   ],
   "source": [
    "def preprocess(features, labels, scan, test_mode=False):\n",
    "    size = len(labels)\n",
    "    x = np.array(features, dtype=np.uint8).transpose(0, 2, 1, 3)\n",
    "    y = np.ones((size, n_len), dtype=np.uint8)\n",
    "    if not test_mode:\n",
    "        for i in range(size):\n",
    "            tmp = labels[i]\n",
    "            if len(tmp) < n_len:\n",
    "                tmp = tmp + '  '\n",
    "            y[i] = [char_set.find(ch) for ch in tmp]\n",
    "    return [x, \n",
    "            y, \n",
    "            scan * np.ones(size),\n",
    "            n_len * np.ones(size)], np.ones(size)\n",
    "[x, y, _, _], _ = preprocess(features, labels, int(conv_shape[1] - 2))\n",
    "y[:10]"
   ]
  },
  {
   "cell_type": "markdown",
   "metadata": {},
   "source": [
    "### 定义模型"
   ]
  },
  {
   "cell_type": "code",
   "execution_count": 117,
   "metadata": {
    "collapsed": false
   },
   "outputs": [],
   "source": [
    "from keras.models import *\n",
    "from keras.layers import *\n",
    "from keras.layers.merge import Concatenate, Add\n",
    "rnn_size = 128\n",
    "\n",
    "def create_model_CTC(num_CCM, num_kernel):\n",
    "    input_tensor = Input((width, height, 3))\n",
    "    x = input_tensor\n",
    "    \n",
    "    # 卷积池化层\n",
    "    for i in range(num_CCM):\n",
    "        x = Conv2D(filters=num_kernel, kernel_size=3, strides=1, activation='relu')(x)\n",
    "#         x = BatchNormalization()(x)\n",
    "        x = Conv2D(filters=num_kernel, kernel_size=3, strides=1, activation='relu')(x)\n",
    "#         x = BatchNormalization()(x)\n",
    "        x = MaxPool2D(pool_size=2, strides=2, padding='valid')(x)\n",
    "        \n",
    "    # 全链接层\n",
    "    conv_shape = x.get_shape()\n",
    "    x = Reshape(target_shape=(int(conv_shape[1]), int(conv_shape[2]*conv_shape[3])))(x)\n",
    "    x = Dense(32, activation='relu')(x)\n",
    "    \n",
    "    # GRU层\n",
    "    gru_1 = GRU(units=rnn_size, return_sequences=True, kernel_initializer='he_normal', name='gru1')(x)\n",
    "    gru_1b = GRU(units=rnn_size, return_sequences=True, kernel_initializer='he_normal', name='gru1_b', go_backwards=True)(x)\n",
    "    gru1_merged = Add()([gru_1, gru_1b])\n",
    "    \n",
    "    gru_2 = GRU(units=rnn_size, return_sequences=True, kernel_initializer='he_normal', name='gru2')(gru1_merged)\n",
    "    gru_2b = GRU(units=rnn_size, return_sequences=True, kernel_initializer='he_normal', name='gru2_b', go_backwards=True)(gru1_merged)\n",
    "    x = Concatenate()([gru_2, gru_2b])\n",
    "    \n",
    "    # Dropout层\n",
    "    x = Dropout(0.25)(x)\n",
    "    \n",
    "    # 输出层：16类（字符集15类 + 空白符1类）\n",
    "    x = Dense(n_class, kernel_initializer='he_normal', activation='softmax')(x)\n",
    "    \n",
    "    # 基模型定义完成：卷积层 > 全链接 > GRU > Dropout > 输出层\n",
    "    base_model = Model(inputs=input_tensor, outputs=x)\n",
    "    \n",
    "    # CTC层，输出CTC Loss\n",
    "    labels = Input(name='the_labels', shape=[n_len], dtype='float32')\n",
    "    input_length = Input(name='input_length', shape=[1], dtype='int64')\n",
    "    label_length = Input(name='label_length', shape=[1], dtype='int64')\n",
    "    loss_out = Lambda(function=ctc_lambda_func, output_shape=[1], name='ctc')([x, labels, input_length, label_length])\n",
    "    \n",
    "    # CTC模型定义完成\n",
    "    ctc_model = Model(inputs=[input_tensor, labels, input_length, label_length], outputs=[loss_out])\n",
    "    \n",
    "    return conv_shape, base_model, ctc_model"
   ]
  },
  {
   "cell_type": "markdown",
   "metadata": {},
   "source": [
    "### 初始化模型"
   ]
  },
  {
   "cell_type": "code",
   "execution_count": 118,
   "metadata": {
    "collapsed": true
   },
   "outputs": [],
   "source": [
    "def loss_func(y_true, y_pred):\n",
    "    return y_pred"
   ]
  },
  {
   "cell_type": "code",
   "execution_count": 156,
   "metadata": {
    "collapsed": true
   },
   "outputs": [],
   "source": [
    "# 1. 创建模型：3层卷积池化级联 / 32个卷积核\n",
    "conv_shape, base_model, model = create_model_CTC(3, 32)\n",
    "\n",
    "# 2. 编译模型\n",
    "model.compile(loss={'ctc': loss_func}, optimizer='adadelta')\n",
    "# model.compile(loss={'ctc': lambda y_true, y_pred: y_pred}, optimizer='adadelta')"
   ]
  },
  {
   "cell_type": "code",
   "execution_count": 9,
   "metadata": {
    "collapsed": false
   },
   "outputs": [
    {
     "name": "stdout",
     "output_type": "stream",
     "text": [
      "(?, 19, 4, 32)\n"
     ]
    }
   ],
   "source": [
    "print(conv_shape)"
   ]
  },
  {
   "cell_type": "code",
   "execution_count": 10,
   "metadata": {
    "collapsed": false,
    "scrolled": true
   },
   "outputs": [
    {
     "data": {
      "image/png": "[encoded data removed]",
      "text/plain": [
       "<IPython.core.display.Image object>"
      ]
     },
     "execution_count": 10,
     "metadata": {},
     "output_type": "execute_result"
    }
   ],
   "source": [
    "from keras.utils.vis_utils import plot_model\n",
    "from IPython.display import Image\n",
    "plot_model(model, to_file=\"ctc_model.png\", show_shapes=True)\n",
    "Image('ctc_model.png')"
   ]
  },
  {
   "cell_type": "markdown",
   "metadata": {},
   "source": [
    "### 训练模型"
   ]
  },
  {
   "cell_type": "code",
   "execution_count": 188,
   "metadata": {
    "collapsed": true
   },
   "outputs": [],
   "source": [
    "from datetime import datetime\n",
    "def get_time():\n",
    "    return datetime.now().strftime(\"%Y%m%d@%H-%M-%S\")"
   ]
  },
  {
   "cell_type": "code",
   "execution_count": 191,
   "metadata": {
    "collapsed": true
   },
   "outputs": [],
   "source": [
    "epoch = 1"
   ]
  },
  {
   "cell_type": "code",
   "execution_count": 221,
   "metadata": {
    "collapsed": false,
    "scrolled": false
   },
   "outputs": [
    {
     "name": "stdout",
     "output_type": "stream",
     "text": [
      "Training Data Set # 0\n",
      "Epoch 1/1\n",
      "10000/10000 [==============================] - 23s - loss: 0.0067    \n",
      "Accuracy over 10000 samples : 0.9985\n",
      "Training Data Set # 1\n",
      "Epoch 1/1\n",
      "10000/10000 [==============================] - 22s - loss: 0.0126    \n",
      "Accuracy over 10000 samples : 0.9976\n",
      "Training Data Set # 2\n",
      "Epoch 1/1\n",
      "10000/10000 [==============================] - 21s - loss: 0.0099    \n",
      "Accuracy over 10000 samples : 0.9978\n",
      "Training Data Set # 3\n",
      "Epoch 1/1\n",
      "10000/10000 [==============================] - 21s - loss: 0.0113    \n",
      "Accuracy over 10000 samples : 0.9992\n",
      "Training Data Set # 4\n",
      "Epoch 1/1\n",
      "10000/10000 [==============================] - 21s - loss: 0.0280    \n",
      "Accuracy over 10000 samples : 0.9977\n",
      "Training Data Set # 5\n",
      "Epoch 1/1\n",
      "10000/10000 [==============================] - 21s - loss: 0.0134    \n",
      "Accuracy over 10000 samples : 0.9761\n",
      "Training Data Set # 6\n",
      "Epoch 1/1\n",
      "10000/10000 [==============================] - 21s - loss: 0.0131    \n",
      "Accuracy over 10000 samples : 0.993\n",
      "Training Data Set # 7\n",
      "Epoch 1/1\n",
      "10000/10000 [==============================] - 21s - loss: 0.0162    \n",
      "Accuracy over 10000 samples : 0.9982\n",
      "Training Data Set # 8\n",
      "Epoch 1/1\n",
      "10000/10000 [==============================] - 21s - loss: 0.0111    \n",
      "Accuracy over 10000 samples : 0.9976\n",
      "Training Data Set # 9\n",
      "Epoch 1/1\n",
      "10000/10000 [==============================] - 21s - loss: 0.0148    \n",
      "Accuracy over 10000 samples : 0.9991\n"
     ]
    }
   ],
   "source": [
    "total_dataset_to_be_trained = 10\n",
    "batch_size = 64\n",
    "import random\n",
    "\n",
    "for set_id in range(total_dataset_to_be_trained):\n",
    "    print(\"Training Data Set #\", set_id)\n",
    "    features, labels, results = load_dataset('', set_id)\n",
    "    scan = int(conv_shape[1] - 2)\n",
    "    [x, y, I, L], T = preprocess(features, labels, scan)\n",
    "    model.fit(x=[x, y, I, L], \n",
    "              y=T, \n",
    "              batch_size=batch_size, \n",
    "              epochs=1,\n",
    "              callbacks=None)\n",
    "    # 计算模型准确度\n",
    "    acc = 100 * evaluate(model, size=10000, set_id=random.choice(range(10)))\n",
    "    # 保存模型参数\n",
    "    base_model.save('%s_ctc2_10set_%s_epoch_%s_acc.h5' % (get_time(), epoch, acc))\n",
    "epoch += 1"
   ]
  },
  {
   "cell_type": "code",
   "execution_count": 162,
   "metadata": {
    "collapsed": true
   },
   "outputs": [],
   "source": [
    "# 保存模型\n",
    "base_model.save('arithmetic_ctc2_10set_4epoch_9984.h5')"
   ]
  },
  {
   "cell_type": "code",
   "execution_count": 203,
   "metadata": {
    "collapsed": false
   },
   "outputs": [
    {
     "name": "stdout",
     "output_type": "stream",
     "text": [
      "Accuracy over 10000 samples : 0.9985\n"
     ]
    },
    {
     "data": {
      "text/plain": [
       "0.99850000000000005"
      ]
     },
     "execution_count": 203,
     "metadata": {},
     "output_type": "execute_result"
    }
   ],
   "source": [
    "# 查看当前模型所能达到的准确率\n",
    "evaluate(model)"
   ]
  },
  {
   "cell_type": "code",
   "execution_count": 195,
   "metadata": {
    "collapsed": false,
    "scrolled": true
   },
   "outputs": [],
   "source": [
    "# 重新载入模型\n",
    "from keras.models import load_model\n",
    "base_model.load_weights('20170801@17-49-34_ctc2_10set_1_epoch_99.95_acc.h5')"
   ]
  },
  {
   "cell_type": "markdown",
   "metadata": {},
   "source": [
    "### 评估模型性能"
   ]
  },
  {
   "cell_type": "code",
   "execution_count": 185,
   "metadata": {
    "collapsed": false
   },
   "outputs": [],
   "source": [
    "# 使用第十个10000张图片计算测试准确率\n",
    "def evaluate(model, size=10000, set_id=9):\n",
    "    features, labels, results = load_dataset('', set_id)\n",
    "    scan = int(conv_shape[1] - 2)\n",
    "    [X_test, y_test, _, _], _  = preprocess(features[:size], labels[:size], scan)\n",
    "    y_pred = base_model.predict(X_test)\n",
    "    shape = y_pred[:,2:,:].shape\n",
    "    ctc_decode = K.ctc_decode(y_pred[:,2:,:], input_length=np.ones(shape[0])*shape[1])[0][0]\n",
    "    out = K.get_value(ctc_decode)[:, :n_len]\n",
    "    batch_acc = 0\n",
    "    for o in out:\n",
    "        for i in range(len(o)):\n",
    "            if o[i] == -1:\n",
    "                o[i] = 15\n",
    "    if out.shape[1] == n_len:\n",
    "        batch_acc += ((y_test == out).sum(axis=1) == n_len).mean()\n",
    "    print(\"Accuracy over %s samples :\" % (size), batch_acc)\n",
    "    return batch_acc"
   ]
  },
  {
   "cell_type": "markdown",
   "metadata": {},
   "source": [
    "#### 批量检测"
   ]
  },
  {
   "cell_type": "code",
   "execution_count": 142,
   "metadata": {
    "collapsed": false,
    "scrolled": true
   },
   "outputs": [
    {
     "name": "stdout",
     "output_type": "stream",
     "text": [
      "id       Original       Predict      CTC Code\n",
      "2       (9*6)-2       (9*5)-2      ((((99*   5))-- 2  \n",
      "33       9*(0-6)       9+(01-6      ((9+  (((01-  6))  \n",
      "43       (8*4)*3       (8+4)*3      ((((8+  44))*  3   \n",
      "73       6-(7+7)       6-(7+17      (66-(((7+  17)))   \n",
      "104       (3-5)*5       (3-5*5       (((3-- 55**  5     \n",
      "159       (8*9)+3       (8*)+3       ((((8**  )))+  33  \n",
      "182       3*6-3       7*6-3        ((7*  6---33       \n",
      "183       6+1+4       6+7+4        6666+  77+  44     \n",
      "189       7+(6-8)       7(6-8)       ((77  (((66-- 88)) \n",
      "231       6*(4*1)       6*(4*1       (66** (((44*  11   \n",
      "254       4*5-3       4*5-34       (44*  555- 3   4   \n",
      "276       4+1*7       4+(1*7       (44+ (1**  7       \n",
      "293       1-8*6       1-8+6        ((1- 8++  6        \n",
      "308       (5+8)+3       5+8)+3       ((55+  88))++ 33   \n",
      "376       5+1-2       1+9-2        ((1+  9-22         \n",
      "378       (1+0)-5       (+0)-5       ((((++  00))---55  \n",
      "403       9*(9-8)       9*(9-85      (999*  (((9-- 85)) \n",
      "410       2-(5+3)       2-(5+8)      (22--(((5++  8)))  \n",
      "460       1*1*8       1*7*8        ((1*  77*  88      \n",
      "465       6-(6*2)       6-(5*2)      (66--(((5**  2))   \n",
      "498       2+(7-8)       3+(7-8)      ((3+ (((77-- 8)))  \n",
      "550       1-2*6       (2*6         ((((22*  66        \n",
      "554       7*0+6       7*0*6        ((7**  00**  66    \n",
      "571       1+6*0       1+6*1)       ((1+  66*   11)    \n",
      "586       (1*2)*0       1*2)*0       ((11*  222)**  00  \n",
      "603       0*(1-5)       0*(7-5)      ((00*  ((7-- 5))   \n",
      "616       9*(5-9)       29*(5-9      ((29*  ((55-- 99)) \n",
      "641       6*(1+8)       6*(0+8)      (66** (0++ 88))    \n",
      "664       6-6*6       6-65*6       (66-- 65**  66     \n",
      "695       (8-3)+4       (8-3)*4      (((8---3)))*   44  \n",
      "728       8-1*3       3-1*3        (33--11*  3        \n",
      "755       (6*0)*8       (6*1)*8      ((((6*  1)))*   8  \n",
      "788       (7-5)-4       7-5)-4       ((77-- 55))-- 4    \n",
      "790       (8+0)+1       (8+2)+1      ((((8++  2)))+  1  \n",
      "820       2-1*0       2-(1*0       (22--(1*  00       \n",
      "839       (1*6)-3       1*6)-3       ((11*  66))-- 3    \n",
      "878       (0+4)+3       (0+4)*3      ((((00+  44))*  33 \n",
      "899       7*1*9       7*8*9        ((7**  8*  99      \n",
      "971       8*(0-0)       8*(0-0       (88** (((0-  00    \n",
      "978       (1+8)+4       1+8)+4       ((11+  88)+  44    \n",
      "\n",
      "Accuracy over 1000 samples : 96.0 %\n"
     ]
    }
   ],
   "source": [
    "# 检查预测结果解码情况\n",
    "size = 1000\n",
    "features, labels, results = load_dataset('', 8)\n",
    "scan = int(conv_shape[1] - 2)\n",
    "[X_test, y_test, _, _], _  = preprocess(features[:size], labels[:size], scan)\n",
    "\n",
    "# 使用CNN+GRU构成的基模型进行预测\n",
    "y_pred = base_model.predict(X_test)\n",
    "y_argmax = np.argmax(y_pred, axis=2)\n",
    "\n",
    "shape = y_pred[:,2:,:].shape\n",
    "ctc_decode = K.ctc_decode(y_pred[:,2:,:], input_length=np.ones(shape[0])*shape[1])[0][0]\n",
    "out = K.get_value(ctc_decode)[:, :n_len]\n",
    "\n",
    "# 将-1恢复为空格15\n",
    "for o in out:\n",
    "    for i in range(len(o)):\n",
    "        if o[i] == -1:\n",
    "            o[i] = 15\n",
    "\n",
    "print(\"id\", \"     \", \"Original\", \"     \", \"Predict\", \"    \", \"CTC Code\")\n",
    "for i in range(size):\n",
    "    pred = \"\".join([char_set[ch] for ch in out[i]])\n",
    "    hard = \"\".join([char_set[ch] for ch in y_argmax[i]])\n",
    "    if labels[i] != pred.replace(\" \", \"\"):\n",
    "        print(i, \"     \", labels[i], \"     \", pred, \"    \", hard)            \n",
    "            \n",
    "batch_acc = 0\n",
    "if out.shape[1] == n_len:\n",
    "    batch_acc += ((y_test == out).sum(axis=1) == n_len).mean()\n",
    "print(\"\\nAccuracy over %s samples :\" % (size), batch_acc * 100, \"%\")"
   ]
  },
  {
   "cell_type": "markdown",
   "metadata": {},
   "source": [
    "#### 汇总训练集中的识别错误图片"
   ]
  },
  {
   "cell_type": "code",
   "execution_count": 198,
   "metadata": {
    "collapsed": false,
    "scrolled": true
   },
   "outputs": [
    {
     "name": "stdout",
     "output_type": "stream",
     "text": [
      "Accuracy over 10000 samples : 99.83 %\n",
      "Accuracy over 10000 samples : 99.87 %\n",
      "Accuracy over 10000 samples : 99.84 %\n",
      "Accuracy over 10000 samples : 99.88 %\n",
      "Accuracy over 10000 samples : 99.81 %\n",
      "Accuracy over 10000 samples : 99.95 %\n",
      "Accuracy over 10000 samples : 99.77 %\n",
      "Accuracy over 10000 samples : 99.72 %\n",
      "Accuracy over 10000 samples : 99.77 %\n",
      "Accuracy over 10000 samples : 99.8 %\n",
      "Error Samples to be trained : 176\n"
     ]
    }
   ],
   "source": [
    "# 收集易错题，尝试进一步提高准确率\n",
    "error_img = []\n",
    "error_label = []\n",
    "\n",
    "for set_id in range(10):\n",
    "    size = 10000\n",
    "    features, labels, results = load_dataset('', set_id)\n",
    "    scan = int(conv_shape[1] - 2)\n",
    "    [X_test, y_test, _, _], _  = preprocess(features[:size], labels[:size], scan)\n",
    "\n",
    "    # 预测和解码\n",
    "    y_pred = base_model.predict(X_test)\n",
    "    shape = y_pred[:,2:,:].shape\n",
    "    ctc_decode = K.ctc_decode(y_pred[:,2:,:], input_length=np.ones(shape[0])*shape[1])[0][0]\n",
    "    out = K.get_value(ctc_decode)[:, :n_len]\n",
    "\n",
    "    # 将-1恢复为空格15\n",
    "    for o in out:\n",
    "        for i in range(len(o)):\n",
    "            if o[i] == -1:\n",
    "                o[i] = 15\n",
    "\n",
    "    for i in range(size):\n",
    "        pred = \"\".join([char_set[ch] for ch in out[i]])\n",
    "        if labels[i] != pred.replace(\" \", \"\"):\n",
    "            error_img.append(features[i])\n",
    "            error_label.append(labels[i])\n",
    "\n",
    "    batch_acc = 0\n",
    "    if out.shape[1] == n_len:\n",
    "        batch_acc += ((y_test == out).sum(axis=1) == n_len).mean()\n",
    "    print(\"Accuracy over %s samples :\" % (size), batch_acc * 100, \"%\")\n",
    "\n",
    "print(\"Error Samples to be trained :\", len(error_img))"
   ]
  },
  {
   "cell_type": "code",
   "execution_count": 204,
   "metadata": {
    "collapsed": false
   },
   "outputs": [
    {
     "name": "stdout",
     "output_type": "stream",
     "text": [
      "Epoch 1/1\n",
      "176/176 [==============================] - 0s - loss: 0.4331     \n",
      "Accuracy over 10000 samples : 0.9984\n"
     ]
    },
    {
     "data": {
      "text/plain": [
       "0.99839999999999995"
      ]
     },
     "execution_count": 204,
     "metadata": {},
     "output_type": "execute_result"
    }
   ],
   "source": [
    "err_features = np.array(error_img)\n",
    "error_label = np.array(error_label)\n",
    "scan = int(conv_shape[1] - 2)\n",
    "[x, y, I, L], T = preprocess(err_features, error_label, scan)\n",
    "model.fit(x=[x, y, I, L], \n",
    "          y=T, \n",
    "          batch_size=batch_size, \n",
    "          epochs=1, \n",
    "          verbose=1, \n",
    "          callbacks=None)\n",
    "evaluate(model)"
   ]
  },
  {
   "cell_type": "markdown",
   "metadata": {},
   "source": [
    "### 对测试集进行预测并输出"
   ]
  },
  {
   "cell_type": "code",
   "execution_count": 218,
   "metadata": {
    "collapsed": false
   },
   "outputs": [
    {
     "name": "stderr",
     "output_type": "stream",
     "text": [
      "100%|█████████████████████████████████████████████████████| 10000/10000 [00:18<00:00, 541.93it/s]\n",
      "100%|█████████████████████████████████████████████████████| 10000/10000 [00:17<00:00, 571.55it/s]\n",
      "100%|█████████████████████████████████████████████████████| 10000/10000 [00:18<00:00, 552.62it/s]\n",
      "100%|█████████████████████████████████████████████████████| 10000/10000 [00:18<00:00, 529.21it/s]\n",
      "100%|█████████████████████████████████████████████████████| 10000/10000 [00:17<00:00, 582.72it/s]\n",
      "100%|█████████████████████████████████████████████████████| 10000/10000 [00:17<00:00, 578.95it/s]\n",
      "100%|█████████████████████████████████████████████████████| 10000/10000 [00:17<00:00, 585.93it/s]\n",
      "100%|█████████████████████████████████████████████████████| 10000/10000 [00:17<00:00, 566.11it/s]\n",
      "100%|█████████████████████████████████████████████████████| 10000/10000 [00:17<00:00, 580.67it/s]\n",
      "100%|█████████████████████████████████████████████████████| 10000/10000 [00:17<00:00, 572.73it/s]\n",
      "100%|█████████████████████████████████████████████████████| 10000/10000 [00:16<00:00, 600.01it/s]\n",
      "100%|█████████████████████████████████████████████████████| 10000/10000 [00:17<00:00, 567.32it/s]\n",
      "100%|█████████████████████████████████████████████████████| 10000/10000 [00:18<00:00, 553.55it/s]\n",
      "100%|█████████████████████████████████████████████████████| 10000/10000 [00:17<00:00, 569.75it/s]\n",
      "100%|█████████████████████████████████████████████████████| 10000/10000 [00:17<00:00, 575.85it/s]\n",
      "100%|█████████████████████████████████████████████████████| 10000/10000 [00:17<00:00, 562.48it/s]\n",
      "100%|█████████████████████████████████████████████████████| 10000/10000 [00:18<00:00, 555.37it/s]\n",
      "100%|█████████████████████████████████████████████████████| 10000/10000 [00:17<00:00, 563.04it/s]\n",
      "100%|█████████████████████████████████████████████████████| 10000/10000 [00:17<00:00, 557.22it/s]\n",
      "100%|█████████████████████████████████████████████████████| 10000/10000 [00:18<00:00, 541.08it/s]\n",
      "100%|████████████████████████████████████████████████████████████| 20/20 [00:54<00:00,  2.18s/it]\n"
     ]
    }
   ],
   "source": [
    "from PIL import Image\n",
    "from tqdm import tqdm\n",
    "import matplotlib.pyplot as plt\n",
    "import pickle\n",
    "\n",
    "# 导出为pickle\n",
    "val_db = []\n",
    "for set_i in range(20):\n",
    "    val_db.append([])\n",
    "    for i in tqdm(range(10000)):\n",
    "        img = Image.open('C:\\\\image_contest_level_1_validate\\\\' + str(i + 10000 * set_i) + '.png').convert('RGB')\n",
    "        val_db[set_i].append(np.array(img, dtype=np.uint8))\n",
    "        \n",
    "for i in tqdm(range(20)):\n",
    "    obj = {'set_id':i, 'data':np.array(val_db[i])}\n",
    "    with open('validation_data_%s.p'%(i), 'wb') as f:\n",
    "        pickle.dump(obj, f)"
   ]
  },
  {
   "cell_type": "code",
   "execution_count": 214,
   "metadata": {
    "collapsed": true
   },
   "outputs": [],
   "source": [
    "# 导入pickle\n",
    "def load_validation_dataset(path, set_id):\n",
    "    if set_id > 19 or set_id < 0:\n",
    "        print('Error: Invalid Dataset ID. Range 0 to 9.')\n",
    "        return None\n",
    "    with open('%svalidation_data_%s.p'%(path, set_id), mode='rb') as file:\n",
    "        dataset = pickle.load(file)\n",
    "    features = dataset['data']\n",
    "\n",
    "    return features"
   ]
  },
  {
   "cell_type": "code",
   "execution_count": 219,
   "metadata": {
    "collapsed": false
   },
   "outputs": [
    {
     "name": "stderr",
     "output_type": "stream",
     "text": [
      "Calculating Batch #0: 100%|█████████████████████████████| 10000/10000 [00:00<00:00, 10716.40it/s]\n"
     ]
    },
    {
     "name": "stdout",
     "output_type": "stream",
     "text": [
      "Invalid Expression Count = 11\n"
     ]
    },
    {
     "name": "stderr",
     "output_type": "stream",
     "text": [
      "Calculating Batch #1: 100%|█████████████████████████████| 10000/10000 [00:00<00:00, 10165.06it/s]\n"
     ]
    },
    {
     "name": "stdout",
     "output_type": "stream",
     "text": [
      "Invalid Expression Count = 7\n"
     ]
    },
    {
     "name": "stderr",
     "output_type": "stream",
     "text": [
      "Calculating Batch #2: 100%|█████████████████████████████| 10000/10000 [00:00<00:00, 12821.12it/s]\n"
     ]
    },
    {
     "name": "stdout",
     "output_type": "stream",
     "text": [
      "Invalid Expression Count = 12\n"
     ]
    },
    {
     "name": "stderr",
     "output_type": "stream",
     "text": [
      "Calculating Batch #3: 100%|█████████████████████████████| 10000/10000 [00:00<00:00, 12755.66it/s]\n"
     ]
    },
    {
     "name": "stdout",
     "output_type": "stream",
     "text": [
      "Invalid Expression Count = 11\n"
     ]
    },
    {
     "name": "stderr",
     "output_type": "stream",
     "text": [
      "Calculating Batch #4: 100%|█████████████████████████████| 10000/10000 [00:00<00:00, 13019.97it/s]\n"
     ]
    },
    {
     "name": "stdout",
     "output_type": "stream",
     "text": [
      "Invalid Expression Count = 8\n"
     ]
    },
    {
     "name": "stderr",
     "output_type": "stream",
     "text": [
      "Calculating Batch #5: 100%|█████████████████████████████| 10000/10000 [00:00<00:00, 12310.96it/s]\n"
     ]
    },
    {
     "name": "stdout",
     "output_type": "stream",
     "text": [
      "Invalid Expression Count = 15\n"
     ]
    },
    {
     "name": "stderr",
     "output_type": "stream",
     "text": [
      "Calculating Batch #6: 100%|█████████████████████████████| 10000/10000 [00:00<00:00, 13373.42it/s]\n"
     ]
    },
    {
     "name": "stdout",
     "output_type": "stream",
     "text": [
      "Invalid Expression Count = 11\n"
     ]
    },
    {
     "name": "stderr",
     "output_type": "stream",
     "text": [
      "Calculating Batch #7: 100%|█████████████████████████████| 10000/10000 [00:00<00:00, 13205.56it/s]\n"
     ]
    },
    {
     "name": "stdout",
     "output_type": "stream",
     "text": [
      "Invalid Expression Count = 14\n"
     ]
    },
    {
     "name": "stderr",
     "output_type": "stream",
     "text": [
      "Calculating Batch #8: 100%|█████████████████████████████| 10000/10000 [00:00<00:00, 13214.77it/s]\n"
     ]
    },
    {
     "name": "stdout",
     "output_type": "stream",
     "text": [
      "Invalid Expression Count = 18\n"
     ]
    },
    {
     "name": "stderr",
     "output_type": "stream",
     "text": [
      "Calculating Batch #9: 100%|█████████████████████████████| 10000/10000 [00:00<00:00, 13265.12it/s]\n"
     ]
    },
    {
     "name": "stdout",
     "output_type": "stream",
     "text": [
      "Invalid Expression Count = 16\n"
     ]
    },
    {
     "name": "stderr",
     "output_type": "stream",
     "text": [
      "Calculating Batch #10: 100%|████████████████████████████| 10000/10000 [00:00<00:00, 13202.66it/s]\n"
     ]
    },
    {
     "name": "stdout",
     "output_type": "stream",
     "text": [
      "Invalid Expression Count = 12\n"
     ]
    },
    {
     "name": "stderr",
     "output_type": "stream",
     "text": [
      "Calculating Batch #11: 100%|████████████████████████████| 10000/10000 [00:00<00:00, 13001.75it/s]\n"
     ]
    },
    {
     "name": "stdout",
     "output_type": "stream",
     "text": [
      "Invalid Expression Count = 11\n"
     ]
    },
    {
     "name": "stderr",
     "output_type": "stream",
     "text": [
      "Calculating Batch #12: 100%|█████████████████████████████| 10000/10000 [00:01<00:00, 9093.75it/s]\n"
     ]
    },
    {
     "name": "stdout",
     "output_type": "stream",
     "text": [
      "Invalid Expression Count = 11\n"
     ]
    },
    {
     "name": "stderr",
     "output_type": "stream",
     "text": [
      "Calculating Batch #13: 100%|█████████████████████████████| 10000/10000 [00:01<00:00, 9020.28it/s]\n"
     ]
    },
    {
     "name": "stdout",
     "output_type": "stream",
     "text": [
      "Invalid Expression Count = 18\n"
     ]
    },
    {
     "name": "stderr",
     "output_type": "stream",
     "text": [
      "Calculating Batch #14: 100%|████████████████████████████| 10000/10000 [00:00<00:00, 12964.92it/s]\n"
     ]
    },
    {
     "name": "stdout",
     "output_type": "stream",
     "text": [
      "Invalid Expression Count = 7\n"
     ]
    },
    {
     "name": "stderr",
     "output_type": "stream",
     "text": [
      "Calculating Batch #15: 100%|████████████████████████████| 10000/10000 [00:00<00:00, 13098.64it/s]\n"
     ]
    },
    {
     "name": "stdout",
     "output_type": "stream",
     "text": [
      "Invalid Expression Count = 11\n"
     ]
    },
    {
     "name": "stderr",
     "output_type": "stream",
     "text": [
      "Calculating Batch #16: 100%|████████████████████████████| 10000/10000 [00:00<00:00, 12822.76it/s]\n"
     ]
    },
    {
     "name": "stdout",
     "output_type": "stream",
     "text": [
      "Invalid Expression Count = 6\n"
     ]
    },
    {
     "name": "stderr",
     "output_type": "stream",
     "text": [
      "Calculating Batch #17: 100%|████████████████████████████| 10000/10000 [00:00<00:00, 13015.49it/s]\n"
     ]
    },
    {
     "name": "stdout",
     "output_type": "stream",
     "text": [
      "Invalid Expression Count = 9\n"
     ]
    },
    {
     "name": "stderr",
     "output_type": "stream",
     "text": [
      "Calculating Batch #18: 100%|████████████████████████████| 10000/10000 [00:00<00:00, 13487.73it/s]\n"
     ]
    },
    {
     "name": "stdout",
     "output_type": "stream",
     "text": [
      "Invalid Expression Count = 10\n"
     ]
    },
    {
     "name": "stderr",
     "output_type": "stream",
     "text": [
      "Calculating Batch #19: 100%|████████████████████████████| 10000/10000 [00:00<00:00, 12984.29it/s]\n"
     ]
    },
    {
     "name": "stdout",
     "output_type": "stream",
     "text": [
      "Invalid Expression Count = 7\n",
      "Total Time: 377.69621086120605\n"
     ]
    }
   ],
   "source": [
    "from time import time\n",
    "n_validation = 200000\n",
    "batch = 10000\n",
    "n_batch = 20\n",
    "\n",
    "y_all_text = []\n",
    "y_all_res = []\n",
    "err_id = []\n",
    "\n",
    "start = time()\n",
    "for i_batch in range(n_batch):\n",
    "    # 从pickle文件导入\n",
    "    features = load_validation_dataset('', i_batch)\n",
    "\n",
    "    # Predict Using Trained Model\n",
    "    scan = int(conv_shape[1] - 2)\n",
    "    [X_test, _, _, _], _  = preprocess(features, _, scan, test_mode=True)\n",
    "    y_pred = base_model.predict(X_test)\n",
    "    shape = y_pred[:,2:,:].shape\n",
    "    ctc_decode = K.ctc_decode(y_pred[:,2:,:], input_length=np.ones(shape[0])*shape[1])[0][0]\n",
    "    out = K.get_value(ctc_decode)[:, :n_len]\n",
    "    for o in out:\n",
    "        for i in range(len(o)):\n",
    "            if o[i] == -1:\n",
    "                o[i] = 15\n",
    "    \n",
    "    # Decode and store text expression\n",
    "    y_text = []\n",
    "    for i in range(batch):\n",
    "        y_text.append(\"\".join([char_set[ch] for ch in out[i]]))\n",
    "\n",
    "    # Calculate the result of the expression\n",
    "    y_res = []\n",
    "    invalid_count = 0\n",
    "    for i in tqdm(range(batch), desc=\"Calculating Batch #\" + str(i_batch)):\n",
    "        val = 0\n",
    "        try:\n",
    "            val = eval(y_text[i])\n",
    "        except Exception as e:\n",
    "            invalid_count += 1\n",
    "            err_id.append(i + 10000 * i_batch)\n",
    "#             print(\"Invalid Expression\")\n",
    "        y_res.append(val)\n",
    "    print(\"Invalid Expression Count =\", invalid_count)\n",
    "    y_all_text += y_text\n",
    "    y_all_res += y_res\n",
    "\n",
    "print(\"Total Time:\", time() - start)"
   ]
  },
  {
   "cell_type": "code",
   "execution_count": 220,
   "metadata": {
    "collapsed": false
   },
   "outputs": [
    {
     "name": "stdout",
     "output_type": "stream",
     "text": [
      "Expressions: 200000\n",
      "Results: 200000\n",
      "Invalid Expressions: 225\n",
      "Check: [954, 2271, 2362, 5300, 6132, 6443, 6552, 7625, 7963, 8019, 8553, 10671, 11523, 12764, 13582, 16620, 16691, 17416, 20765, 22996, 23176, 23334, 24351, 24880, 25298, 25314, 27594, 28273, 28526, 28770, 30148, 30872, 31856, 32229, 33680, 33702, 34366, 35383, 36348, 36773, 37104, 41238, 43173, 43194, 43829, 45476, 45704, 49690, 49864, 51024, 51277, 51295, 51846, 52517, 53963, 54331, 54712, 54917, 55689, 55940, 57696, 58476, 58872, 59740, 60289, 60706, 61936, 63146, 63350, 63431, 66896, 66989, 67225, 67348, 67976, 70038, 71857, 72063, 72339, 72657, 73791, 75083, 75255, 76979, 77182, 77773, 77986, 78892, 79048, 80070, 80300, 81412, 81424, 81772, 81853, 82558, 82890, 83089, 83522, 84331, 84388, 86304, 86900, 87012, 88124, 89035, 89639, 90201, 90923, 90991, 91136, 91192, 91487, 91934, 94365, 95303, 95780, 95783, 95830, 96916, 97307, 99297, 99917, 100530, 100716, 102187, 102240, 104861, 105652, 107079, 107282, 108195, 109141, 109179, 109586, 110926, 111652, 112827, 114595, 115060, 115141, 115142, 117422, 118585, 118893, 118986, 120693, 121154, 121389, 121851, 122144, 124528, 127899, 128076, 128519, 128772, 129517, 130305, 130393, 130964, 132141, 132559, 133066, 133514, 133537, 133599, 134059, 134381, 136564, 137178, 137184, 137900, 138070, 138096, 138567, 143110, 145379, 145647, 146655, 147645, 148219, 149219, 150338, 150629, 151028, 152054, 152800, 153318, 154365, 154834, 155192, 157383, 159937, 160556, 162825, 165027, 166230, 166944, 168810, 170111, 170953, 171593, 171598, 171730, 173184, 176598, 177064, 178119, 180241, 180414, 181599, 182586, 183135, 184566, 188136, 188716, 189038, 189922, 191452, 191724, 192987, 193891, 195884, 196314, 196749]\n"
     ]
    }
   ],
   "source": [
    "print(\"Expressions:\", len(y_all_text))\n",
    "print(\"Results:\", len(y_all_res))\n",
    "print(\"Invalid Expressions:\", len(err_id))\n",
    "print(\"Check:\", err_id)"
   ]
  },
  {
   "cell_type": "markdown",
   "metadata": {},
   "source": [
    "### 将结果合并导出"
   ]
  },
  {
   "cell_type": "code",
   "execution_count": 82,
   "metadata": {
    "collapsed": false
   },
   "outputs": [
    {
     "name": "stderr",
     "output_type": "stream",
     "text": [
      "Write #9999 to file: 100%|███████████████████████████| 200000/200000 [00:01<00:00, 141403.94it/s]\n"
     ]
    }
   ],
   "source": [
    "with open('ctc_validation_result_9992.txt', 'w') as f:\n",
    "    for i in tqdm(range(n_validation), desc='Write #' + str(i) + \" to file\"):\n",
    "        line = str(y_all_text[i].replace(\" \", \"\")) + ' ' + str(y_all_res[i]) + '\\n'\n",
    "        f.writelines(line)"
   ]
  }
 ],
 "metadata": {
  "kernelspec": {
   "display_name": "Python 3",
   "language": "python",
   "name": "python3"
  },
  "language_info": {
   "codemirror_mode": {
    "name": "ipython",
    "version": 3
   },
   "file_extension": ".py",
   "mimetype": "text/x-python",
   "name": "python",
   "nbconvert_exporter": "python",
   "pygments_lexer": "ipython3",
   "version": "3.5.3"
  }
 },
 "nbformat": 4,
 "nbformat_minor": 2
}
