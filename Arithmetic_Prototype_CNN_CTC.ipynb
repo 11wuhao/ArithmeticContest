{
 "cells": [
  {
   "cell_type": "markdown",
   "metadata": {},
   "source": [
    "# 百度云/MEIZU 四则混合运算识别 深度学习应用大赛\n",
    "\n",
    "## 初赛记录 Prototyping with CNN/CTC\n",
    "\n",
    "\n",
    "- **Author**: Michael Yuan\n",
    "- **Team**: 一朵小红花\n",
    "- **Email**: mtyylx@163.com\n",
    "- **Date**: 2017/Aug/2\n",
    "- **Link**: http://meizu.baiducloud.top/ps/web/index.html\n",
    "- **Training Data (Labeled)**: 100K Photos\n",
    "- **Testing Data (Not Labeled)**: 200K Photos"
   ]
  },
  {
   "cell_type": "markdown",
   "metadata": {},
   "source": [
    "# 环境配置\n",
    "\n",
    "- 环境：Python 3.5 + TensorFlow 1.2.1 + Keras 2.0.2\n",
    "- 模型：CNN + GRU + CTC"
   ]
  },
  {
   "cell_type": "code",
   "execution_count": 1,
   "metadata": {
    "collapsed": true
   },
   "outputs": [],
   "source": [
    "import numpy as np\n",
    "from PIL import Image\n",
    "from tqdm import tqdm\n",
    "import matplotlib.pyplot as plt\n",
    "import pickle\n",
    "import random\n",
    "from time import time\n",
    "from datetime import datetime"
   ]
  },
  {
   "cell_type": "markdown",
   "metadata": {},
   "source": [
    "# 定义字符集\n",
    "\n",
    "- 数字：10种\n",
    "- 括号：2种\n",
    "- 运算符：3种，不包括除法\n",
    "- 空白符：1种，用来补齐没有使用括号的图片，这样所有图片中的字符串长度都可以统一固定为7。\n",
    "    - 例如：\"1+7-1\" （原长度为5）可以被识别为 \"1+7-1\\_\\_\" （长度为7）"
   ]
  },
  {
   "cell_type": "code",
   "execution_count": 2,
   "metadata": {
    "collapsed": true
   },
   "outputs": [],
   "source": [
    "# 字符集：去掉空格\n",
    "char_set = '0123456789+-*() '\n",
    "\n",
    "# 字符集长度 = 16\n",
    "n_class = len(char_set)\n",
    "\n",
    "# 图片所含文本内容的长度 = 7\n",
    "n_len = 7\n",
    "\n",
    "# 图片尺寸\n",
    "width, height = 180, 60"
   ]
  },
  {
   "cell_type": "markdown",
   "metadata": {},
   "source": [
    "# 数据预处理\n",
    "\n",
    "### 1. 将训练数据序列化为Pickle文件\n",
    "\n",
    "- 将训练数据的10万张图片序列化导出为10个Pickle文件。这样在后面训练时可以方便快速读取。\n",
    "    - 每个文件是一个dict对象。\n",
    "    - 该dict对象具有4个键\n",
    "        - set_id：指示dict所含数据的批号\n",
    "        - data：np.array，维度是(1000, 60, 180, 30)\n",
    "        - expr：一万个文本表达式，与data的图像一一对应\n",
    "        - res：一万个文本结果，与data的图像一一对应"
   ]
  },
  {
   "cell_type": "code",
   "execution_count": null,
   "metadata": {
    "collapsed": true
   },
   "outputs": [],
   "source": [
    "# 载入所有label信息，放入表达式（expression）和计算结果（result）这两个变量中\n",
    "with open('.\\image_contest_level_1\\labels.txt', 'r') as f:\n",
    "    labels = f.readlines()\n",
    "\n",
    "# X = expr\n",
    "# Y = result\n",
    "x, y = [], []\n",
    "for line in labels:\n",
    "    splited = line.split(' ')\n",
    "    x.append(splited[0])\n",
    "    y.append(splited[1])\n",
    "    \n",
    "x_set = np.array(x).reshape(10, -1)\n",
    "y_set = np.array(y).reshape(10, -1)\n",
    "\n",
    "# 载入所有图片数据\n",
    "img_db = []\n",
    "for set_i in range(10):\n",
    "    img_db.append([])\n",
    "    for i in tqdm(range(10000)):\n",
    "        img = Image.open('C:\\\\image_contest_level_1\\\\' + str(i + 10000 * set_i) + '.png').convert('RGB')\n",
    "        img_db[set_i].append(np.array(img))\n",
    "\n",
    "# 每10000张图片序列化为一个pickle文件\n",
    "for i in tqdm(range(10)):\n",
    "    obj = {'set_id':i, 'data':np.array(img_db[i]), 'expr':x_set[i], 'res':y_set[i]}\n",
    "    with open('test_data_%s.p'%(i), 'wb') as f:\n",
    "        pickle.dump(obj, f)"
   ]
  },
  {
   "cell_type": "markdown",
   "metadata": {},
   "source": [
    "### 2. 载入Pickle文件"
   ]
  },
  {
   "cell_type": "code",
   "execution_count": 3,
   "metadata": {
    "collapsed": true
   },
   "outputs": [],
   "source": [
    "# 提供pickle文件所在位置，以及要取的数据集编号（0-9）\n",
    "def load_dataset(set_id):\n",
    "    if set_id > 9 or set_id < 0:\n",
    "        print('Error: Invalid Dataset ID. Range 0 to 9.')\n",
    "        return None\n",
    "    with open('test_data_%s.p'%(set_id), mode='rb') as file:\n",
    "        dataset = pickle.load(file)\n",
    "\n",
    "    features = dataset['data']\n",
    "    labels = np.array(dataset['expr'])\n",
    "    results = np.array(dataset['res'])\n",
    "#     print('Features Shape :', features.shape)\n",
    "#     print('Expressions Shape :', labels.shape)\n",
    "#     print('Results Shape :', results.shape)\n",
    "\n",
    "    return features, labels, results"
   ]
  },
  {
   "cell_type": "code",
   "execution_count": 10,
   "metadata": {
    "collapsed": false
   },
   "outputs": [],
   "source": [
    "features, labels, results = load_dataset(0)"
   ]
  },
  {
   "cell_type": "markdown",
   "metadata": {},
   "source": [
    "### 3. 预处理以满足CTC的需求\n",
    "\n",
    "- 需要将横着的图片转置为竖着的图片，以供CTC切割为图像条，利于识别每个字符的特点。\n",
    "- 需要指明输入和输出的相应维度\n",
    "    - input_length: 指明预测值字符串的长度，相当于将图像分割为17段。\n",
    "    - label_length: 指明实际值字符串的长度，这里统一强制为7."
   ]
  },
  {
   "cell_type": "code",
   "execution_count": 11,
   "metadata": {
    "collapsed": false
   },
   "outputs": [
    {
     "data": {
      "text/plain": [
       "array([[13,  4, 12,  8, 14, 10,  8],\n",
       "       [ 7, 10,  3, 12,  0, 15, 15],\n",
       "       [ 5, 10, 13,  5, 10,  2, 14],\n",
       "       [13,  8, 11,  0, 14, 11,  8],\n",
       "       [ 0, 10, 13,  0, 10,  2, 14]], dtype=uint8)"
      ]
     },
     "execution_count": 11,
     "metadata": {},
     "output_type": "execute_result"
    }
   ],
   "source": [
    "# 将训练数据进行处理\n",
    "def preprocess(features, labels, scan, test_mode=False):\n",
    "    size = len(labels)\n",
    "    x = np.array(features, dtype=np.uint8).transpose(0, 2, 1, 3)\n",
    "    y = np.ones((size, n_len), dtype=np.uint8)\n",
    "    if not test_mode:\n",
    "        for i in range(size):\n",
    "            tmp = labels[i]\n",
    "            if len(tmp) < n_len:\n",
    "                tmp = tmp + '  '\n",
    "            y[i] = [char_set.find(ch) for ch in tmp]\n",
    "    return [x, \n",
    "            y, \n",
    "            scan * np.ones(size),\n",
    "            n_len * np.ones(size)], np.ones(size)\n",
    "\n",
    "[x, y, _, _], _ = preprocess(features, labels, 17)\n",
    "y[:5]"
   ]
  },
  {
   "cell_type": "markdown",
   "metadata": {},
   "source": [
    "# 模型训练"
   ]
  },
  {
   "cell_type": "markdown",
   "metadata": {},
   "source": [
    "### 1. 定义模型"
   ]
  },
  {
   "cell_type": "code",
   "execution_count": 17,
   "metadata": {
    "collapsed": false
   },
   "outputs": [],
   "source": [
    "from keras import backend as K\n",
    "\n",
    "def ctc_lambda_func(args):\n",
    "    y_pred, labels, input_length, label_length = args\n",
    "    y_pred = y_pred[:, 2:, :]\n",
    "    return K.ctc_batch_cost(labels, y_pred, input_length, label_length)"
   ]
  },
  {
   "cell_type": "code",
   "execution_count": 13,
   "metadata": {
    "collapsed": false
   },
   "outputs": [],
   "source": [
    "from keras.models import *\n",
    "from keras.layers import *\n",
    "from keras.layers.merge import Concatenate, Add\n",
    "rnn_size = 128\n",
    "\n",
    "def create_model_CTC(num_CCM, num_kernel):\n",
    "    input_tensor = Input((width, height, 3))\n",
    "    x = input_tensor\n",
    "    \n",
    "    # 卷积池化层\n",
    "    for i in range(num_CCM):\n",
    "        x = Conv2D(filters=num_kernel, kernel_size=3, strides=1, activation='relu')(x)\n",
    "#         x = BatchNormalization()(x)\n",
    "        x = Conv2D(filters=num_kernel, kernel_size=3, strides=1, activation='relu')(x)\n",
    "#         x = BatchNormalization()(x)\n",
    "        x = MaxPool2D(pool_size=2, strides=2, padding='valid')(x)\n",
    "        \n",
    "    # 全链接层\n",
    "    conv_shape = x.get_shape()\n",
    "    x = Reshape(target_shape=(int(conv_shape[1]), int(conv_shape[2]*conv_shape[3])))(x)\n",
    "    x = Dense(32, activation='relu')(x)\n",
    "    \n",
    "    # GRU层\n",
    "    gru_1 = GRU(units=rnn_size, return_sequences=True, kernel_initializer='he_normal', name='gru1')(x)\n",
    "    gru_1b = GRU(units=rnn_size, return_sequences=True, kernel_initializer='he_normal', name='gru1_b', go_backwards=True)(x)\n",
    "    gru1_merged = Add()([gru_1, gru_1b])\n",
    "    \n",
    "    gru_2 = GRU(units=rnn_size, return_sequences=True, kernel_initializer='he_normal', name='gru2')(gru1_merged)\n",
    "    gru_2b = GRU(units=rnn_size, return_sequences=True, kernel_initializer='he_normal', name='gru2_b', go_backwards=True)(gru1_merged)\n",
    "    x = Concatenate()([gru_2, gru_2b])\n",
    "    \n",
    "    # Dropout层\n",
    "    x = Dropout(0.25)(x)\n",
    "    \n",
    "    # 输出层：16类（字符集15类 + 空白符1类）\n",
    "    x = Dense(n_class, kernel_initializer='he_normal', activation='softmax')(x)\n",
    "    \n",
    "    # 基模型定义完成：卷积层 > 全链接 > GRU > Dropout > 输出层\n",
    "    base_model = Model(inputs=input_tensor, outputs=x)\n",
    "    \n",
    "    # CTC层，输出CTC Loss\n",
    "    labels = Input(name='the_labels', shape=[n_len], dtype='float32')\n",
    "    input_length = Input(name='input_length', shape=[1], dtype='int64')\n",
    "    label_length = Input(name='label_length', shape=[1], dtype='int64')\n",
    "    loss_out = Lambda(function=ctc_lambda_func, output_shape=[1], name='ctc')([x, labels, input_length, label_length])\n",
    "    \n",
    "    # CTC模型定义完成\n",
    "    ctc_model = Model(inputs=[input_tensor, labels, input_length, label_length], outputs=[loss_out])\n",
    "    \n",
    "    return conv_shape, base_model, ctc_model"
   ]
  },
  {
   "cell_type": "markdown",
   "metadata": {},
   "source": [
    "### 2. 初始化模型"
   ]
  },
  {
   "cell_type": "code",
   "execution_count": 14,
   "metadata": {
    "collapsed": true
   },
   "outputs": [],
   "source": [
    "def loss_func(y_true, y_pred):\n",
    "    return y_pred"
   ]
  },
  {
   "cell_type": "code",
   "execution_count": 15,
   "metadata": {
    "collapsed": true
   },
   "outputs": [],
   "source": [
    "# 1. 创建模型：3层卷积池化级联 / 32个卷积核\n",
    "conv_shape, base_model, model = create_model_CTC(3, 32)\n",
    "\n",
    "# 2. 编译模型\n",
    "model.compile(loss={'ctc': loss_func}, optimizer='adadelta')\n",
    "# model.compile(loss={'ctc': lambda y_true, y_pred: y_pred}, optimizer='adadelta')"
   ]
  },
  {
   "cell_type": "code",
   "execution_count": 16,
   "metadata": {
    "collapsed": false
   },
   "outputs": [
    {
     "name": "stdout",
     "output_type": "stream",
     "text": [
      "(?, 19, 4, 32)\n"
     ]
    }
   ],
   "source": [
    "print(conv_shape)"
   ]
  },
  {
   "cell_type": "code",
   "execution_count": null,
   "metadata": {
    "collapsed": false,
    "scrolled": true
   },
   "outputs": [],
   "source": [
    "from keras.utils.vis_utils import plot_model\n",
    "from IPython.display import Image\n",
    "plot_model(model, to_file=\"ctc_model.png\", show_shapes=True)\n",
    "Image('ctc_model.png')"
   ]
  },
  {
   "cell_type": "markdown",
   "metadata": {},
   "source": [
    "### 3. 训练模型"
   ]
  },
  {
   "cell_type": "code",
   "execution_count": 18,
   "metadata": {
    "collapsed": true
   },
   "outputs": [],
   "source": [
    "from datetime import datetime\n",
    "def get_time():\n",
    "    return datetime.now().strftime(\"%Y%m%d@%H-%M-%S\")"
   ]
  },
  {
   "cell_type": "code",
   "execution_count": 19,
   "metadata": {
    "collapsed": true
   },
   "outputs": [],
   "source": [
    "epoch = 1"
   ]
  },
  {
   "cell_type": "code",
   "execution_count": 367,
   "metadata": {
    "collapsed": false,
    "scrolled": false
   },
   "outputs": [
    {
     "name": "stdout",
     "output_type": "stream",
     "text": [
      "Training Data Set # 0\n",
      "Epoch 1/1\n",
      "10000/10000 [==============================] - 23s - loss: 0.0039    \n",
      "Accuracy over 10000 samples : 0.9985\n",
      "Training Data Set # 1\n",
      "Epoch 1/1\n",
      "10000/10000 [==============================] - 23s - loss: 0.0152    \n",
      "Accuracy over 10000 samples : 0.9996\n",
      "Training Data Set # 2\n",
      "Epoch 1/1\n",
      "10000/10000 [==============================] - 23s - loss: 0.0039    \n",
      "Accuracy over 10000 samples : 0.9991\n",
      "Training Data Set # 3\n",
      "Epoch 1/1\n",
      "10000/10000 [==============================] - 23s - loss: 0.0073    \n",
      "Accuracy over 10000 samples : 0.9977\n",
      "Training Data Set # 4\n",
      "Epoch 1/1\n",
      "10000/10000 [==============================] - 23s - loss: 0.0109    \n",
      "Accuracy over 10000 samples : 0.9978\n",
      "Training Data Set # 5\n",
      "Epoch 1/1\n",
      "10000/10000 [==============================] - 23s - loss: 0.0051    \n",
      "Accuracy over 10000 samples : 0.9984\n",
      "Training Data Set # 6\n",
      "Epoch 1/1\n",
      "10000/10000 [==============================] - 23s - loss: 0.0109    \n",
      "Accuracy over 10000 samples : 0.9986\n",
      "Training Data Set # 7\n",
      "Epoch 1/1\n",
      "10000/10000 [==============================] - 24s - loss: 0.0066    \n",
      "Accuracy over 10000 samples : 0.9994\n",
      "Training Data Set # 8\n",
      "Epoch 1/1\n",
      "10000/10000 [==============================] - 25s - loss: 0.0117    \n",
      "Accuracy over 10000 samples : 0.9987\n",
      "Training Data Set # 9\n",
      "Epoch 1/1\n",
      "10000/10000 [==============================] - 23s - loss: 0.0173    \n",
      "Accuracy over 10000 samples : 0.9987\n"
     ]
    }
   ],
   "source": [
    "total_dataset_to_be_trained = 10\n",
    "batch_size = 64\n",
    "import random\n",
    "\n",
    "for set_id in range(total_dataset_to_be_trained):\n",
    "    print(\"Training Data Set #\", set_id)\n",
    "    features, labels, results = load_dataset(set_id)\n",
    "    scan = int(conv_shape[1] - 2)\n",
    "    [x, y, I, L], T = preprocess(features, labels, scan)\n",
    "    model.fit(x=[x, y, I, L], \n",
    "              y=T, \n",
    "              batch_size=batch_size, \n",
    "              epochs=1,\n",
    "              callbacks=None)\n",
    "    # 计算模型准确度\n",
    "    acc = 100 * evaluate(model, size=10000, set_id=random.choice(range(10)))\n",
    "    # 保存模型参数\n",
    "    base_model.save('%s_ctc2_10set_%s_epoch_%s_acc.h5' % (get_time(), epoch, acc))\n",
    "epoch += 1"
   ]
  },
  {
   "cell_type": "code",
   "execution_count": 162,
   "metadata": {
    "collapsed": true
   },
   "outputs": [],
   "source": [
    "# 保存模型\n",
    "base_model.save('arithmetic_ctc2_10set_4epoch_9984.h5')"
   ]
  },
  {
   "cell_type": "code",
   "execution_count": 21,
   "metadata": {
    "collapsed": false
   },
   "outputs": [
    {
     "name": "stdout",
     "output_type": "stream",
     "text": [
      "Accuracy over 10000 samples : 0.9986\n"
     ]
    },
    {
     "data": {
      "text/plain": [
       "0.99860000000000004"
      ]
     },
     "execution_count": 21,
     "metadata": {},
     "output_type": "execute_result"
    }
   ],
   "source": [
    "# 查看当前模型所能达到的准确率\n",
    "evaluate(model)"
   ]
  },
  {
   "cell_type": "code",
   "execution_count": 21,
   "metadata": {
    "collapsed": false,
    "scrolled": true
   },
   "outputs": [],
   "source": [
    "# 重新载入模型\n",
    "from keras.models import load_model\n",
    "base_model.load_weights('20170802@09-25-31_ctc2_10set_10_epoch_99.97_acc_test_129.h5')"
   ]
  },
  {
   "cell_type": "markdown",
   "metadata": {},
   "source": [
    "### 4. 评估模型性能"
   ]
  },
  {
   "cell_type": "code",
   "execution_count": 22,
   "metadata": {
    "collapsed": false
   },
   "outputs": [],
   "source": [
    "# 使用第十个10000张图片计算测试准确率\n",
    "def evaluate(model, size=10000, set_id=9):\n",
    "    features, labels, results = load_dataset(set_id)\n",
    "    scan = int(conv_shape[1] - 2)\n",
    "    [X_test, y_test, _, _], _  = preprocess(features[:size], labels[:size], scan)\n",
    "    y_pred = base_model.predict(X_test)\n",
    "    shape = y_pred[:,2:,:].shape\n",
    "    ctc_decode = K.ctc_decode(y_pred[:,2:,:], input_length=np.ones(shape[0])*shape[1])[0][0]\n",
    "    out = K.get_value(ctc_decode)[:, :n_len]\n",
    "    batch_acc = 0\n",
    "    for o in out:\n",
    "        for i in range(len(o)):\n",
    "            if o[i] == -1:\n",
    "                o[i] = 15\n",
    "    if out.shape[1] == n_len:\n",
    "        batch_acc += ((y_test == out).sum(axis=1) == n_len).mean()\n",
    "    print(\"Accuracy over %s samples :\" % (size), batch_acc)\n",
    "    return batch_acc"
   ]
  },
  {
   "cell_type": "markdown",
   "metadata": {},
   "source": [
    "### 5. 可视化预测结果"
   ]
  },
  {
   "cell_type": "code",
   "execution_count": 23,
   "metadata": {
    "collapsed": false,
    "scrolled": true
   },
   "outputs": [
    {
     "name": "stdout",
     "output_type": "stream",
     "text": [
      "id       Original       Predict      CTC Code             Correct?\n",
      "0       (9*7)-4       (9*7)-4      (((99** 77)))--44        True\n",
      "1       9-6+3       9-6+3        (99---66+  33            True\n",
      "2       (9*6)-2       (9*6)-2      ((((99** 66)))--22       True\n",
      "3       0-8-7       0-8-7        (00---88--777            True\n",
      "4       (1+4)+3       (1+4)+3      (((11++ 44)))++  3       True\n",
      "5       (6-2)-1       (6-2)-1      (((666--2)))--11         True\n",
      "6       2-8-7       2-8-7        (22--888--777            True\n",
      "7       1*(3*4)       1*(3*4)      ((1** ((3**  44))        True\n",
      "8       9*6-2       9*6-2        (99** 666--22            True\n",
      "9       1*(5*9)       1*(5*9)      ((1* (((555** 999))      True\n",
      "\n",
      "Accuracy over 10 samples : 100.0 %\n"
     ]
    }
   ],
   "source": [
    "# 检查预测结果解码情况\n",
    "size = 10\n",
    "features, labels, results = load_dataset(8)\n",
    "scan = int(conv_shape[1] - 2)\n",
    "[X_test, y_test, _, _], _  = preprocess(features[:size], labels[:size], scan)\n",
    "\n",
    "# 使用CNN+GRU构成的基模型进行预测\n",
    "y_pred = base_model.predict(X_test)\n",
    "y_argmax = np.argmax(y_pred, axis=2)\n",
    "\n",
    "shape = y_pred[:,2:,:].shape\n",
    "ctc_decode = K.ctc_decode(y_pred[:,2:,:], input_length=np.ones(shape[0])*shape[1])[0][0]\n",
    "out = K.get_value(ctc_decode)[:, :n_len]\n",
    "\n",
    "# 将-1恢复为空格15\n",
    "for o in out:\n",
    "    for i in range(len(o)):\n",
    "        if o[i] == -1:\n",
    "            o[i] = 15\n",
    "\n",
    "print(\"id\", \"     \", \"Original\", \"     \", \"Predict\", \"    \", \"CTC Code\", \"           \", \"Correct?\")\n",
    "for i in range(size):\n",
    "    pred = \"\".join([char_set[ch] for ch in out[i]])\n",
    "    hard = \"\".join([char_set[ch] for ch in y_argmax[i]])\n",
    "    correct = (labels[i] == pred.replace(\" \", \"\"))\n",
    "    print(i, \"     \", labels[i], \"     \", pred, \"    \", hard, \"    \", correct)            \n",
    "            \n",
    "batch_acc = 0\n",
    "if out.shape[1] == n_len:\n",
    "    batch_acc += ((y_test == out).sum(axis=1) == n_len).mean()\n",
    "print(\"\\nAccuracy over %s samples :\" % (size), batch_acc * 100, \"%\")"
   ]
  },
  {
   "cell_type": "markdown",
   "metadata": {},
   "source": [
    "### 6. 汇总训练集中的识别错误图片"
   ]
  },
  {
   "cell_type": "code",
   "execution_count": 363,
   "metadata": {
    "collapsed": false,
    "scrolled": true
   },
   "outputs": [
    {
     "name": "stdout",
     "output_type": "stream",
     "text": [
      "Accuracy over 10000 samples : 99.99 %\n",
      "Accuracy over 10000 samples : 99.94 %\n",
      "Accuracy over 10000 samples : 100.0 %\n",
      "Accuracy over 10000 samples : 99.99 %\n",
      "Accuracy over 10000 samples : 99.97 %\n",
      "Accuracy over 10000 samples : 99.98 %\n",
      "Accuracy over 10000 samples : 99.95 %\n",
      "Accuracy over 10000 samples : 99.97 %\n",
      "Accuracy over 10000 samples : 99.91 %\n",
      "Accuracy over 10000 samples : 99.94 %\n",
      "Error Samples to be trained : 36\n"
     ]
    }
   ],
   "source": [
    "# 收集易错题，尝试进一步提高准确率\n",
    "error_img = []\n",
    "error_label = []\n",
    "\n",
    "for set_id in range(10):\n",
    "    size = 10000\n",
    "    features, labels, results = load_dataset(set_id)\n",
    "    scan = int(conv_shape[1] - 2)\n",
    "    [X_test, y_test, _, _], _  = preprocess(features[:size], labels[:size], scan)\n",
    "\n",
    "    # 预测和解码\n",
    "    y_pred = base_model.predict(X_test)\n",
    "    shape = y_pred[:,2:,:].shape\n",
    "    ctc_decode = K.ctc_decode(y_pred[:,2:,:], input_length=np.ones(shape[0])*shape[1])[0][0]\n",
    "    out = K.get_value(ctc_decode)[:, :n_len]\n",
    "\n",
    "    # 将-1恢复为空格15\n",
    "    for o in out:\n",
    "        for i in range(len(o)):\n",
    "            if o[i] == -1:\n",
    "                o[i] = 15\n",
    "\n",
    "    for i in range(size):\n",
    "        pred = \"\".join([char_set[ch] for ch in out[i]])\n",
    "        if labels[i] != pred.replace(\" \", \"\"):\n",
    "            error_img.append(features[i])\n",
    "            error_label.append(labels[i])\n",
    "\n",
    "    batch_acc = 0\n",
    "    if out.shape[1] == n_len:\n",
    "        batch_acc += ((y_test == out).sum(axis=1) == n_len).mean()\n",
    "    print(\"Accuracy over %s samples :\" % (size), batch_acc * 100, \"%\")\n",
    "\n",
    "print(\"Error Samples to be trained :\", len(error_img))"
   ]
  },
  {
   "cell_type": "markdown",
   "metadata": {},
   "source": [
    "### 7. 对错误样本进行专题训练"
   ]
  },
  {
   "cell_type": "code",
   "execution_count": 204,
   "metadata": {
    "collapsed": false
   },
   "outputs": [
    {
     "name": "stdout",
     "output_type": "stream",
     "text": [
      "Epoch 1/1\n",
      "176/176 [==============================] - 0s - loss: 0.4331     \n",
      "Accuracy over 10000 samples : 0.9984\n"
     ]
    },
    {
     "data": {
      "text/plain": [
       "0.99839999999999995"
      ]
     },
     "execution_count": 204,
     "metadata": {},
     "output_type": "execute_result"
    }
   ],
   "source": [
    "err_features = np.array(error_img)\n",
    "error_label = np.array(error_label)\n",
    "scan = int(conv_shape[1] - 2)\n",
    "[x, y, I, L], T = preprocess(err_features, error_label, scan)\n",
    "model.fit(x=[x, y, I, L], \n",
    "          y=T, \n",
    "          batch_size=batch_size, \n",
    "          epochs=1, \n",
    "          verbose=1, \n",
    "          callbacks=None)\n",
    "evaluate(model)"
   ]
  },
  {
   "cell_type": "markdown",
   "metadata": {},
   "source": [
    "# 扩展模型训练\n",
    "\n",
    "> 经过对10万张训练图片将近10个Epoch的训练，准确率可以达到99.8%。为了进一步增强模型对于图像识别的泛化能力，尝试使用自动生成的captcha图像来进行扩展训练，这样的训练数据是无穷的。"
   ]
  },
  {
   "cell_type": "markdown",
   "metadata": {},
   "source": [
    "### 1. 使用captcha生成器生成类似图片数据\n",
    "\n",
    "- 使用catpcha库来生成训练图像，但是遇到的主要问题是生成的图像中字符的形态和原训练图像不一致。主要体现在减号的粗细上。\n",
    "- 尝试用生成的图像训练，发现会把模型带跑偏，训练后的模型在原训练数据上的准确率反而下降了。\n",
    "- 也许要自己修改captcha的代码才能产生更为相似的图片。"
   ]
  },
  {
   "cell_type": "code",
   "execution_count": 25,
   "metadata": {
    "collapsed": false
   },
   "outputs": [
    {
     "data": {
      "image/png": "[encoded data removed]",
      "text/plain": [
       "<matplotlib.figure.Figure at 0x245a0d7a1d0>"
      ]
     },
     "metadata": {},
     "output_type": "display_data"
    },
    {
     "data": {
      "image/png": "[encoded data removed]",
      "text/plain": [
       "<matplotlib.figure.Figure at 0x245d4178f98>"
      ]
     },
     "metadata": {},
     "output_type": "display_data"
    }
   ],
   "source": [
    "from captcha.image import ImageCaptcha\n",
    "\n",
    "features, labels, _ = load_dataset(0)\n",
    "plt.figure(figsize=(15, 5))\n",
    "plt.subplot(121)\n",
    "plt.imshow(features[0])\n",
    "plt.title(\"Original Training Image\")\n",
    "plt.subplot(122)\n",
    "plt.imshow(features[11])\n",
    "plt.title(\"Original Training Image\")\n",
    "plt.show()\n",
    "\n",
    "generator = ImageCaptcha(180, 60)\n",
    "plt.figure(figsize=(15, 5))\n",
    "plt.subplot(121)\n",
    "img = generator.generate_image(\"(4*8)+8 \")\n",
    "plt.imshow(img)\n",
    "plt.title(\"Generated By Captcha\")\n",
    "plt.subplot(122)\n",
    "img = generator.generate_image(\"2+8-3  \")\n",
    "plt.imshow(img)\n",
    "plt.title(\"Generated By Captcha\")\n",
    "plt.show()"
   ]
  },
  {
   "cell_type": "markdown",
   "metadata": {},
   "source": [
    "### 2. 运算式生成 + Captcha 图片生成器"
   ]
  },
  {
   "cell_type": "code",
   "execution_count": 26,
   "metadata": {
    "collapsed": false
   },
   "outputs": [
    {
     "name": "stdout",
     "output_type": "stream",
     "text": [
      "0+(7+9)\n"
     ]
    }
   ],
   "source": [
    "# 运算式生成\n",
    "def gen_expr():\n",
    "    # 带括号模式（7）和不带括号模式（5）\n",
    "    style = random.choice([5, 7])\n",
    "    digits = [random.choice('0123456789') for i in range(3)]    # 三个数字\n",
    "    operator = [random.choice('+*') for i in range(2)]         # 两个运算符\n",
    "    out = ''\n",
    "    if style == 5:\n",
    "        out = digits[0] + operator[0] + digits[1] + operator[1] + digits[2] + '  '\n",
    "    else:\n",
    "        bracket = '(' + digits[0] + operator[0] + digits[1] + ')'\n",
    "        side = random.choice([0, 1])\n",
    "        if side == 0:\n",
    "            out = digits[2] + operator[1] + bracket\n",
    "        else:\n",
    "            out = bracket + operator[1] + digits[2]\n",
    "    return out\n",
    "\n",
    "print(gen_expr())"
   ]
  },
  {
   "cell_type": "code",
   "execution_count": 27,
   "metadata": {
    "collapsed": false
   },
   "outputs": [
    {
     "data": {
      "image/png": "[encoded data removed]",
      "text/plain": [
       "<matplotlib.figure.Figure at 0x245d419b9b0>"
      ]
     },
     "metadata": {},
     "output_type": "display_data"
    }
   ],
   "source": [
    "# 图片生成器\n",
    "def gen_captcha(batch_size=64, scan=17):\n",
    "    X = np.zeros((batch_size, width, height, 3), dtype=np.uint8)\n",
    "    y = np.zeros((batch_size, n_len), dtype=np.uint8)\n",
    "    while True:\n",
    "        generator = ImageCaptcha(width=width, height=height, font_sizes=[55])\n",
    "        for i in range(batch_size):\n",
    "            # 生成随机字符串：空格除外，固定长度为7\n",
    "            random_str = gen_expr()\n",
    "            # 图片转置后存入X\n",
    "            X[i] = np.array(generator.generate_image(random_str+' ')).transpose(1, 0, 2)\n",
    "            # 文本存入Y\n",
    "            y[i] = [char_set.find(x) for x in random_str]\n",
    "        # format: input = [x, labels, input_length, label_length], output = loss\n",
    "        yield [X, \n",
    "               y, \n",
    "               np.ones(batch_size) * scan, \n",
    "               np.ones(batch_size) * n_len], np.ones(batch_size)\n",
    "        \n",
    "generator = gen_captcha()\n",
    "[x, y, _, _], _ = next(generator)\n",
    "plt.imshow(x[0].transpose(1, 0, 2))\n",
    "plt.show()"
   ]
  },
  {
   "cell_type": "markdown",
   "metadata": {},
   "source": [
    "### 3. Captcha 图片验证器\n",
    "\n",
    "可以看到，训练出来准确率达到99.97%的模型，在生成图片上的识别率只有17%，说明泛化能力仍需提高。"
   ]
  },
  {
   "cell_type": "code",
   "execution_count": 35,
   "metadata": {
    "collapsed": false
   },
   "outputs": [
    {
     "name": "stdout",
     "output_type": "stream",
     "text": [
      "True : 0*6+0     Pred : 1*5+1\n",
      "True : 3*(0*7)     Pred : 3*(8*7)\n",
      "True : 1+(3*4)     Pred : 1+(3*4)\n",
      "True : 2+(3*5)     Pred : 2+(1*5)\n",
      "True : 9*8+2     Pred : 9*8+2\n",
      "True : (8*4)*3     Pred : (8*4)*3\n",
      "True : 8+3*7     Pred : 6+3*1\n",
      "True : (2*2)*9     Pred : (2*2)*9\n",
      "True : 0+3*5     Pred : (+3*6\n",
      "True : 9*4*8     Pred : 9*4*8-\n"
     ]
    },
    {
     "data": {
      "text/plain": [
       "0.1875"
      ]
     },
     "execution_count": 35,
     "metadata": {},
     "output_type": "execute_result"
    }
   ],
   "source": [
    "def evaluate_captcha(model, batch_num=10):\n",
    "    batch_acc = 0\n",
    "    generator = gen_captcha()\n",
    "    for i in range(batch_num):\n",
    "        [X_test, y_test, _, _], _  = next(generator)\n",
    "        # 使用CNN+GRU构成的基模型进行预测\n",
    "        y_pred = base_model.predict(X_test)\n",
    "        shape = y_pred[:,2:,:].shape\n",
    "        ctc_decode = K.ctc_decode(y_pred[:,2:,:], input_length=np.ones(shape[0])*shape[1])[0][0]\n",
    "        out = K.get_value(ctc_decode)[:, :n_len]\n",
    "        for o in out:\n",
    "            for i in range(len(o)):\n",
    "                if o[i] == -1:\n",
    "                    o[i] = 15\n",
    "\n",
    "        for i in range(size):\n",
    "            pred = \"\".join([char_set[ch] for ch in out[i]]).replace(\" \", \"\")\n",
    "            true = \"\".join([char_set[ch] for ch in y_test[i]]).replace(\" \", \"\")\n",
    "            print(\"True :\", true, \"    Pred :\", pred)\n",
    "            \n",
    "        batch_acc += ((y_test == out).sum(axis=1) == n_len).mean()\n",
    "    return batch_acc / batch_num\n",
    "\n",
    "evaluate_captcha(model, 1)"
   ]
  },
  {
   "cell_type": "markdown",
   "metadata": {},
   "source": [
    "### 4. 进一步训练模型"
   ]
  },
  {
   "cell_type": "code",
   "execution_count": 272,
   "metadata": {
    "collapsed": true
   },
   "outputs": [],
   "source": [
    "from keras.callbacks import *\n",
    "class Evaluate(Callback):\n",
    "    def __init__(self):\n",
    "        self.accs = []\n",
    "    \n",
    "    def on_epoch_end(self, epoch, logs=None):\n",
    "        acc = evaluate_captcha(base_model)*100\n",
    "        self.accs.append(acc)\n",
    "        print(' <acc: %f%%>' % acc)\n",
    "evaluator = Evaluate()"
   ]
  },
  {
   "cell_type": "code",
   "execution_count": 285,
   "metadata": {
    "collapsed": false
   },
   "outputs": [
    {
     "name": "stdout",
     "output_type": "stream",
     "text": [
      "Epoch 1/1\n",
      "799/800 [============================>.] - ETA: 0s - loss: 0.3569"
     ]
    },
    {
     "name": "stderr",
     "output_type": "stream",
     "text": [
      "100%|████████████████████████████████████████████████████████████| 10/10 [00:04<00:00,  2.16it/s]\n"
     ]
    },
    {
     "name": "stdout",
     "output_type": "stream",
     "text": [
      " <acc: 96.875000%>\n",
      "800/800 [==============================] - 204s - loss: 0.3566 - val_loss: 0.1651\n"
     ]
    },
    {
     "data": {
      "text/plain": [
       "<keras.callbacks.History at 0x25481288828>"
      ]
     },
     "execution_count": 285,
     "metadata": {},
     "output_type": "execute_result"
    }
   ],
   "source": [
    "# the number of samples processed for each epoch is batch_size * steps_per_epochs\n",
    "batch_size = 64\n",
    "epoch = 1\n",
    "\n",
    "# Training Set for one epoch\n",
    "train_samples = 51200\n",
    "train_steps = train_samples / batch_size\n",
    "\n",
    "# Validation Set for one epoch\n",
    "validation_sample = train_samples * 0.02\n",
    "validation_steps = validation_sample / batch_size\n",
    "\n",
    "# Start training\n",
    "model.fit_generator(gen_captcha(batch_size), \n",
    "                    steps_per_epoch=train_steps, \n",
    "                    epochs=epoch, \n",
    "                    validation_data=gen_captcha(batch_size), \n",
    "                    validation_steps=validation_steps,\n",
    "                    callbacks=[EarlyStopping(patience=10), evaluator])"
   ]
  },
  {
   "cell_type": "code",
   "execution_count": 271,
   "metadata": {
    "collapsed": false
   },
   "outputs": [
    {
     "name": "stdout",
     "output_type": "stream",
     "text": [
      "Accuracy over 10000 samples : 0.7575\n"
     ]
    },
    {
     "data": {
      "text/plain": [
       "0.75749999999999995"
      ]
     },
     "execution_count": 271,
     "metadata": {},
     "output_type": "execute_result"
    }
   ],
   "source": [
    "evaluate(model)"
   ]
  },
  {
   "cell_type": "markdown",
   "metadata": {},
   "source": [
    "# 测试和提交"
   ]
  },
  {
   "cell_type": "markdown",
   "metadata": {},
   "source": [
    "### 1. 对测试数据进行序列化"
   ]
  },
  {
   "cell_type": "code",
   "execution_count": 218,
   "metadata": {
    "collapsed": false
   },
   "outputs": [
    {
     "name": "stderr",
     "output_type": "stream",
     "text": [
      "100%|█████████████████████████████████████████████████████| 10000/10000 [00:18<00:00, 541.93it/s]\n",
      "100%|█████████████████████████████████████████████████████| 10000/10000 [00:17<00:00, 571.55it/s]\n",
      "100%|█████████████████████████████████████████████████████| 10000/10000 [00:18<00:00, 552.62it/s]\n",
      "100%|█████████████████████████████████████████████████████| 10000/10000 [00:18<00:00, 529.21it/s]\n",
      "100%|█████████████████████████████████████████████████████| 10000/10000 [00:17<00:00, 582.72it/s]\n",
      "100%|█████████████████████████████████████████████████████| 10000/10000 [00:17<00:00, 578.95it/s]\n",
      "100%|█████████████████████████████████████████████████████| 10000/10000 [00:17<00:00, 585.93it/s]\n",
      "100%|█████████████████████████████████████████████████████| 10000/10000 [00:17<00:00, 566.11it/s]\n",
      "100%|█████████████████████████████████████████████████████| 10000/10000 [00:17<00:00, 580.67it/s]\n",
      "100%|█████████████████████████████████████████████████████| 10000/10000 [00:17<00:00, 572.73it/s]\n",
      "100%|█████████████████████████████████████████████████████| 10000/10000 [00:16<00:00, 600.01it/s]\n",
      "100%|█████████████████████████████████████████████████████| 10000/10000 [00:17<00:00, 567.32it/s]\n",
      "100%|█████████████████████████████████████████████████████| 10000/10000 [00:18<00:00, 553.55it/s]\n",
      "100%|█████████████████████████████████████████████████████| 10000/10000 [00:17<00:00, 569.75it/s]\n",
      "100%|█████████████████████████████████████████████████████| 10000/10000 [00:17<00:00, 575.85it/s]\n",
      "100%|█████████████████████████████████████████████████████| 10000/10000 [00:17<00:00, 562.48it/s]\n",
      "100%|█████████████████████████████████████████████████████| 10000/10000 [00:18<00:00, 555.37it/s]\n",
      "100%|█████████████████████████████████████████████████████| 10000/10000 [00:17<00:00, 563.04it/s]\n",
      "100%|█████████████████████████████████████████████████████| 10000/10000 [00:17<00:00, 557.22it/s]\n",
      "100%|█████████████████████████████████████████████████████| 10000/10000 [00:18<00:00, 541.08it/s]\n",
      "100%|████████████████████████████████████████████████████████████| 20/20 [00:54<00:00,  2.18s/it]\n"
     ]
    }
   ],
   "source": [
    "from PIL import Image\n",
    "from tqdm import tqdm\n",
    "import matplotlib.pyplot as plt\n",
    "import pickle\n",
    "\n",
    "# 导出为pickle\n",
    "val_db = []\n",
    "for set_i in range(20):\n",
    "    val_db.append([])\n",
    "    for i in tqdm(range(10000)):\n",
    "        img = Image.open('C:\\\\image_contest_level_1_validate\\\\' + str(i + 10000 * set_i) + '.png').convert('RGB')\n",
    "        val_db[set_i].append(np.array(img, dtype=np.uint8))\n",
    "        \n",
    "for i in tqdm(range(20)):\n",
    "    obj = {'set_id':i, 'data':np.array(val_db[i])}\n",
    "    with open('validation_data_%s.p'%(i), 'wb') as f:\n",
    "        pickle.dump(obj, f)"
   ]
  },
  {
   "cell_type": "code",
   "execution_count": 36,
   "metadata": {
    "collapsed": true
   },
   "outputs": [],
   "source": [
    "# 导入pickle\n",
    "def load_validation_dataset(set_id):\n",
    "    if set_id > 19 or set_id < 0:\n",
    "        print('Error: Invalid Dataset ID. Range 0 to 9.')\n",
    "        return None\n",
    "    with open('validation_data_%s.p'%(set_id), mode='rb') as file:\n",
    "        dataset = pickle.load(file)\n",
    "    features = dataset['data']\n",
    "\n",
    "    return features"
   ]
  },
  {
   "cell_type": "markdown",
   "metadata": {},
   "source": [
    "### 2. 使用模型对测试集进行预测并输出结果"
   ]
  },
  {
   "cell_type": "code",
   "execution_count": 37,
   "metadata": {
    "collapsed": false,
    "scrolled": true
   },
   "outputs": [
    {
     "name": "stderr",
     "output_type": "stream",
     "text": [
      "Calculating Batch #0: 100%|█████████████████████████████| 10000/10000 [00:00<00:00, 76351.97it/s]\n"
     ]
    },
    {
     "name": "stdout",
     "output_type": "stream",
     "text": [
      "Invalid Expression Count = 8\n"
     ]
    },
    {
     "name": "stderr",
     "output_type": "stream",
     "text": [
      "Calculating Batch #1: 100%|█████████████████████████████| 10000/10000 [00:00<00:00, 67877.45it/s]\n"
     ]
    },
    {
     "name": "stdout",
     "output_type": "stream",
     "text": [
      "Invalid Expression Count = 3\n"
     ]
    },
    {
     "name": "stderr",
     "output_type": "stream",
     "text": [
      "Calculating Batch #2: 100%|█████████████████████████████| 10000/10000 [00:00<00:00, 69219.56it/s]\n"
     ]
    },
    {
     "name": "stdout",
     "output_type": "stream",
     "text": [
      "Invalid Expression Count = 4\n"
     ]
    },
    {
     "name": "stderr",
     "output_type": "stream",
     "text": [
      "Calculating Batch #3: 100%|█████████████████████████████| 10000/10000 [00:00<00:00, 69596.52it/s]\n"
     ]
    },
    {
     "name": "stdout",
     "output_type": "stream",
     "text": [
      "Invalid Expression Count = 5\n"
     ]
    },
    {
     "name": "stderr",
     "output_type": "stream",
     "text": [
      "Calculating Batch #4: 100%|█████████████████████████████| 10000/10000 [00:00<00:00, 74511.09it/s]\n"
     ]
    },
    {
     "name": "stdout",
     "output_type": "stream",
     "text": [
      "Invalid Expression Count = 8\n"
     ]
    },
    {
     "name": "stderr",
     "output_type": "stream",
     "text": [
      "Calculating Batch #5: 100%|█████████████████████████████| 10000/10000 [00:00<00:00, 72529.67it/s]\n"
     ]
    },
    {
     "name": "stdout",
     "output_type": "stream",
     "text": [
      "Invalid Expression Count = 7\n"
     ]
    },
    {
     "name": "stderr",
     "output_type": "stream",
     "text": [
      "Calculating Batch #6: 100%|█████████████████████████████| 10000/10000 [00:00<00:00, 76618.23it/s]\n"
     ]
    },
    {
     "name": "stdout",
     "output_type": "stream",
     "text": [
      "Invalid Expression Count = 6\n"
     ]
    },
    {
     "name": "stderr",
     "output_type": "stream",
     "text": [
      "Calculating Batch #7: 100%|█████████████████████████████| 10000/10000 [00:00<00:00, 71082.43it/s]\n"
     ]
    },
    {
     "name": "stdout",
     "output_type": "stream",
     "text": [
      "Invalid Expression Count = 10\n"
     ]
    },
    {
     "name": "stderr",
     "output_type": "stream",
     "text": [
      "Calculating Batch #8: 100%|█████████████████████████████| 10000/10000 [00:00<00:00, 74421.59it/s]\n"
     ]
    },
    {
     "name": "stdout",
     "output_type": "stream",
     "text": [
      "Invalid Expression Count = 7\n"
     ]
    },
    {
     "name": "stderr",
     "output_type": "stream",
     "text": [
      "Calculating Batch #9: 100%|█████████████████████████████| 10000/10000 [00:00<00:00, 74256.76it/s]\n"
     ]
    },
    {
     "name": "stdout",
     "output_type": "stream",
     "text": [
      "Invalid Expression Count = 4\n"
     ]
    },
    {
     "name": "stderr",
     "output_type": "stream",
     "text": [
      "Calculating Batch #10: 100%|████████████████████████████| 10000/10000 [00:00<00:00, 70903.87it/s]\n"
     ]
    },
    {
     "name": "stdout",
     "output_type": "stream",
     "text": [
      "Invalid Expression Count = 5\n"
     ]
    },
    {
     "name": "stderr",
     "output_type": "stream",
     "text": [
      "Calculating Batch #11: 100%|████████████████████████████| 10000/10000 [00:00<00:00, 74591.13it/s]\n"
     ]
    },
    {
     "name": "stdout",
     "output_type": "stream",
     "text": [
      "Invalid Expression Count = 8\n"
     ]
    },
    {
     "name": "stderr",
     "output_type": "stream",
     "text": [
      "Calculating Batch #12: 100%|████████████████████████████| 10000/10000 [00:00<00:00, 72244.09it/s]\n"
     ]
    },
    {
     "name": "stdout",
     "output_type": "stream",
     "text": [
      "Invalid Expression Count = 4\n"
     ]
    },
    {
     "name": "stderr",
     "output_type": "stream",
     "text": [
      "Calculating Batch #13: 100%|████████████████████████████| 10000/10000 [00:00<00:00, 74943.79it/s]\n"
     ]
    },
    {
     "name": "stdout",
     "output_type": "stream",
     "text": [
      "Invalid Expression Count = 6\n"
     ]
    },
    {
     "name": "stderr",
     "output_type": "stream",
     "text": [
      "Calculating Batch #14: 100%|████████████████████████████| 10000/10000 [00:00<00:00, 71322.12it/s]\n"
     ]
    },
    {
     "name": "stdout",
     "output_type": "stream",
     "text": [
      "Invalid Expression Count = 8\n"
     ]
    },
    {
     "name": "stderr",
     "output_type": "stream",
     "text": [
      "Calculating Batch #15: 100%|████████████████████████████| 10000/10000 [00:00<00:00, 76604.79it/s]\n"
     ]
    },
    {
     "name": "stdout",
     "output_type": "stream",
     "text": [
      "Invalid Expression Count = 8\n"
     ]
    },
    {
     "name": "stderr",
     "output_type": "stream",
     "text": [
      "Calculating Batch #16: 100%|████████████████████████████| 10000/10000 [00:00<00:00, 75094.20it/s]\n"
     ]
    },
    {
     "name": "stdout",
     "output_type": "stream",
     "text": [
      "Invalid Expression Count = 7\n"
     ]
    },
    {
     "name": "stderr",
     "output_type": "stream",
     "text": [
      "Calculating Batch #17: 100%|████████████████████████████| 10000/10000 [00:00<00:00, 68699.84it/s]\n"
     ]
    },
    {
     "name": "stdout",
     "output_type": "stream",
     "text": [
      "Invalid Expression Count = 7\n"
     ]
    },
    {
     "name": "stderr",
     "output_type": "stream",
     "text": [
      "Calculating Batch #18: 100%|████████████████████████████| 10000/10000 [00:00<00:00, 75602.74it/s]\n"
     ]
    },
    {
     "name": "stdout",
     "output_type": "stream",
     "text": [
      "Invalid Expression Count = 8\n"
     ]
    },
    {
     "name": "stderr",
     "output_type": "stream",
     "text": [
      "Calculating Batch #19: 100%|████████████████████████████| 10000/10000 [00:00<00:00, 74264.25it/s]\n"
     ]
    },
    {
     "name": "stdout",
     "output_type": "stream",
     "text": [
      "Invalid Expression Count = 6\n",
      "Total Time: 274.3007607460022\n"
     ]
    }
   ],
   "source": [
    "from time import time\n",
    "n_validation = 200000\n",
    "batch = 10000\n",
    "n_batch = 20\n",
    "\n",
    "y_all_text = []\n",
    "y_all_res = []\n",
    "err_id = []\n",
    "\n",
    "start = time()\n",
    "for i_batch in range(20):\n",
    "    # 从pickle文件导入\n",
    "    features = load_validation_dataset(i_batch)\n",
    "#     features, _, _ = load_dataset(i_batch)\n",
    "\n",
    "    # Predict Using Trained Model\n",
    "    scan = int(conv_shape[1] - 2)\n",
    "    [X_test, _, _, _], _  = preprocess(features, _, scan, test_mode=True)\n",
    "    y_pred = base_model.predict(X_test)\n",
    "    shape = y_pred[:,2:,:].shape\n",
    "    ctc_decode = K.ctc_decode(y_pred[:,2:,:], input_length=np.ones(shape[0])*shape[1])[0][0]\n",
    "    out = K.get_value(ctc_decode)[:, :n_len]\n",
    "    for o in out:\n",
    "        for i in range(len(o)):\n",
    "            if o[i] == -1:\n",
    "                o[i] = 15\n",
    "    \n",
    "    # Decode and store text expression\n",
    "    y_text = []\n",
    "    for i in range(batch):\n",
    "        y_text.append(\"\".join([char_set[ch] for ch in out[i]]))\n",
    "\n",
    "    # Calculate the result of the expression\n",
    "    y_res = []\n",
    "    invalid_count = 0\n",
    "    for i in tqdm(range(batch), desc=\"Calculating Batch #\" + str(i_batch)):\n",
    "        val = 0\n",
    "        try:\n",
    "            val = eval(y_text[i])\n",
    "        except Exception as e:\n",
    "            invalid_count += 1\n",
    "            err_id.append(i + 10000 * i_batch)\n",
    "#             print(\"Invalid Expression\")\n",
    "        y_res.append(val)\n",
    "    print(\"Invalid Expression Count =\", invalid_count)\n",
    "    y_all_text += y_text\n",
    "    y_all_res += y_res\n",
    "\n",
    "print(\"Total Time:\", time() - start)"
   ]
  },
  {
   "cell_type": "code",
   "execution_count": null,
   "metadata": {
    "collapsed": true
   },
   "outputs": [],
   "source": [
    "# Auto Correct - Hard to implement.\n",
    "import string\n",
    "def auto_correct(expr):\n",
    "    pass"
   ]
  },
  {
   "cell_type": "markdown",
   "metadata": {},
   "source": [
    "### 3. 检视未能识别为合法表达式的样本"
   ]
  },
  {
   "cell_type": "code",
   "execution_count": 38,
   "metadata": {
    "collapsed": false,
    "scrolled": false
   },
   "outputs": [
    {
     "name": "stdout",
     "output_type": "stream",
     "text": [
      "Expressions: 200000\n",
      "Results: 200000\n",
      "Invalid Expressions: 129\n",
      "Check: [629, 2246, 2271, 3307, 3412, 4129, 6090, 8739, 15442, 17416, 17578, 23354, 23472, 24909, 27017, 32292, 36607, 36977, 38968, 39560, 40302, 40437, 40650, 42630, 43173, 45036, 45476, 45951, 50177, 50420, 52262, 53804, 54442, 57661, 59634, 63192, 64077, 64866, 64899, 65631, 69932, 71857, 73642, 75255, 75606, 76148, 76333, 77631, 77940, 79048, 79878, 80070, 83089, 83197, 86012, 89047, 89639, 89655, 91934, 93565, 95303, 98483, 102187, 102901, 104573, 108195, 109476, 110926, 113831, 114631, 115334, 117227, 117422, 118579, 118977, 120826, 127500, 127878, 128519, 130028, 132147, 133746, 134777, 137252, 138336, 142660, 144337, 144391, 144772, 145647, 145902, 148485, 149439, 150454, 152054, 154308, 155061, 156747, 157208, 158085, 158378, 160481, 161366, 161974, 162500, 162828, 166891, 169081, 170164, 170305, 172413, 172637, 176011, 176755, 178119, 180241, 180602, 182392, 183693, 184223, 186284, 187691, 189038, 191266, 192277, 192516, 195701, 196316, 198510]\n"
     ]
    }
   ],
   "source": [
    "print(\"Expressions:\", len(y_all_text))\n",
    "print(\"Results:\", len(y_all_res))\n",
    "print(\"Invalid Expressions:\", len(err_id))\n",
    "print(\"Check:\", err_id)"
   ]
  },
  {
   "cell_type": "code",
   "execution_count": 39,
   "metadata": {
    "collapsed": false,
    "scrolled": false
   },
   "outputs": [
    {
     "name": "stdout",
     "output_type": "stream",
     "text": [
      "['(+(+01)', '6-5)+2 ', '2+-(8-4', '(6*6*8 ', '(1*5)* ', '(2*1+5 ', '8-02*1 ', '7*6+*0 ', '0+9)-7 ', '((4+9) ']\n"
     ]
    }
   ],
   "source": [
    "invalid_labels = [y_all_text[i] for i in err_id]\n",
    "print(invalid_labels[:10])"
   ]
  },
  {
   "cell_type": "code",
   "execution_count": 40,
   "metadata": {
    "collapsed": false,
    "scrolled": true
   },
   "outputs": [
    {
     "data": {
      "image/png": "[encoded data removed]",
      "text/plain": [
       "<matplotlib.figure.Figure at 0x245d2ea6ef0>"
      ]
     },
     "metadata": {},
     "output_type": "display_data"
    },
    {
     "data": {
      "image/png": "[encoded data removed]",
      "text/plain": [
       "<matplotlib.figure.Figure at 0x2458708eef0>"
      ]
     },
     "metadata": {},
     "output_type": "display_data"
    },
    {
     "data": {
      "image/png": "[encoded data removed]",
      "text/plain": [
       "<matplotlib.figure.Figure at 0x245d2e4b1d0>"
      ]
     },
     "metadata": {},
     "output_type": "display_data"
    },
    {
     "data": {
      "image/png": "[encoded data removed]",
      "text/plain": [
       "<matplotlib.figure.Figure at 0x245d290f7f0>"
      ]
     },
     "metadata": {},
     "output_type": "display_data"
    },
    {
     "data": {
      "image/png": "[encoded data removed]",
      "text/plain": [
       "<matplotlib.figure.Figure at 0x245d2bea470>"
      ]
     },
     "metadata": {},
     "output_type": "display_data"
    },
    {
     "data": {
      "image/png": "[encoded data removed]",
      "text/plain": [
       "<matplotlib.figure.Figure at 0x2459a1e5128>"
      ]
     },
     "metadata": {},
     "output_type": "display_data"
    },
    {
     "data": {
      "image/png": "[encoded data removed]",
      "text/plain": [
       "<matplotlib.figure.Figure at 0x2459a31d7f0>"
      ]
     },
     "metadata": {},
     "output_type": "display_data"
    },
    {
     "data": {
      "image/png": "[encoded data removed]",
      "text/plain": [
       "<matplotlib.figure.Figure at 0x2459a32f7b8>"
      ]
     },
     "metadata": {},
     "output_type": "display_data"
    }
   ],
   "source": [
    "# err_id = [629, 2246, 2271, 3307, 3412, 4129, 6090, 8739, 15442, 17416, 17578, 23354, 23472, 24909, 27017, 32292, 36607, 36977, 38968, 39560, 40302, 40437, 40650, 42630, 43173, 45036, 45476, 45951, 50177, 50420, 52262, 53804, 54442, 57661, 59634, 63192, 64077, 64866, 64899, 65631, 69932, 71857, 73642, 75255, 75606, 76148, 76333, 77631, 77940, 79048, 79878, 80070, 83089, 83197, 86012, 89047, 89639, 89655, 91934, 93565, 95303, 98483, 102187, 102901, 104573, 108195, 109476, 110926, 113831, 114631, 115334, 117227, 117422, 118579, 118977, 120826, 127500, 127878, 128519, 130028, 132147, 133746, 134777, 137252, 138336, 142660, 144337, 144391, 144772, 145647, 145902, 148485, 149439, 150454, 152054, 154308, 155061, 156747, 157208, 158085, 158378, 160481, 161366, 161974, 162500, 162828, 166891, 169081, 170164, 170305, 172413, 172637, 176011, 176755, 178119, 180241, 180602, 182392, 183693, 184223, 186284, 187691, 189038, 191266, 192277, 192516, 195701, 196316, 198510]\n",
    "x = load_validation_dataset(0)\n",
    "for i in err_id:\n",
    "    if i >= 10000:\n",
    "        break\n",
    "    plt.imshow(x[i])\n",
    "    plt.title(y_all_text[i])\n",
    "    plt.show()"
   ]
  },
  {
   "cell_type": "markdown",
   "metadata": {},
   "source": [
    "- 可以看到，有些图片中的字符颜色相当浅，只能看到一些淡淡的水印，识别不出来也不奇怪。但绝大多数图片应该还有提高的余地。\n"
   ]
  },
  {
   "cell_type": "markdown",
   "metadata": {},
   "source": [
    "### 4. 将结果合并导出为TXT以供提交上传"
   ]
  },
  {
   "cell_type": "code",
   "execution_count": 366,
   "metadata": {
    "collapsed": false
   },
   "outputs": [
    {
     "name": "stderr",
     "output_type": "stream",
     "text": [
      "Write #9999 to file: 100%|███████████████████████████| 200000/200000 [00:01<00:00, 117826.17it/s]\n"
     ]
    }
   ],
   "source": [
    "with open('ctc_validation_result_129.txt', 'w') as f:\n",
    "    for i in tqdm(range(200000), desc='Write #' + str(i) + \" to file\"):\n",
    "        line = str(y_all_text[i].replace(\" \", \"\")) + ' ' + str(y_all_res[i]) + '\\n'\n",
    "        f.writelines(line)"
   ]
  },
  {
   "cell_type": "markdown",
   "metadata": {},
   "source": [
    "### 5. 提交结果记录"
   ]
  },
  {
   "cell_type": "markdown",
   "metadata": {},
   "source": [
    "- `20170802@03-19-17_ctc2_10set_6_epoch_99.94_acc.h5` 达到151个无法解析的运算式。提交准确率为0.9997425 (总识别错误 515)\n",
    "- `20170802@03-43-07_ctc2_10set_7_epoch_99.98_acc.h5` 达到136个无法解析的运算式。提交准确率为0.9998060 (总识别错误 388)\n",
    "- `20170802@09-25-31_ctc2_10set_10_epoch_99.97_acc.h5` 达到129个无法解析的运算式。最终准确率为0.998350 (总识别错误 330)"
   ]
  }
 ],
 "metadata": {
  "kernelspec": {
   "display_name": "Python 3",
   "language": "python",
   "name": "python3"
  },
  "language_info": {
   "codemirror_mode": {
    "name": "ipython",
    "version": 3
   },
   "file_extension": ".py",
   "mimetype": "text/x-python",
   "name": "python",
   "nbconvert_exporter": "python",
   "pygments_lexer": "ipython3",
   "version": "3.5.3"
  }
 },
 "nbformat": 4,
 "nbformat_minor": 2
}
